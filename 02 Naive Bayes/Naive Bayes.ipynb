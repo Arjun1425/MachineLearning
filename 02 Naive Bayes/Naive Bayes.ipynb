{
 "cells": [
  {
   "cell_type": "markdown",
   "source": [
    "Sentiments analysis using naive bayes. \n",
    "\n",
    "Download link: https://www.kaggle.com/datasets/lakshmi25npathi/imdb-dataset-of-50k-movie-reviews?select=IMDB+Dataset.csv\n",
    "\n",
    "About Dataset\n",
    "IMDB dataset having 50K movie reviews for natural language processing or Text analytics.\n",
    "This is a dataset for binary sentiment classification containing substantially more data than previous benchmark datasets. We provide a set of 25,000 highly polar movie reviews for training and 25,000 for testing. So, predict the number of positive and negative reviews using either classification or deep learning algorithms.\n",
    "For more dataset information, please go through the following link,\n",
    "http://ai.stanford.edu/~amaas/data/sentiment/"
   ],
   "metadata": {
    "collapsed": false
   },
   "id": "a691375282ef6d63"
  },
  {
   "cell_type": "code",
   "outputs": [],
   "source": [
    "import pandas as pd\n",
    "import re \n",
    "from nltk.corpus import stopwords\n",
    "from nltk.stem.porter import PorterStemmer"
   ],
   "metadata": {
    "collapsed": true,
    "ExecuteTime": {
     "end_time": "2024-06-29T10:33:04.057627Z",
     "start_time": "2024-06-29T10:33:04.052243Z"
    }
   },
   "id": "initial_id",
   "execution_count": 6
  },
  {
   "cell_type": "code",
   "outputs": [
    {
     "name": "stdout",
     "output_type": "stream",
     "text": [
      "                                              review sentiment\n",
      "0  One of the other reviewers has mentioned that ...  positive\n",
      "1  A wonderful little production. <br /><br />The...  positive\n",
      "2  I thought this was a wonderful way to spend ti...  positive\n"
     ]
    }
   ],
   "source": [
    "df = pd.read_csv(\"../../Downloads/Data for ML/IMDB Dataset.csv\")\n",
    "print(df.head(3))"
   ],
   "metadata": {
    "collapsed": false,
    "ExecuteTime": {
     "end_time": "2024-06-29T10:33:04.692540Z",
     "start_time": "2024-06-29T10:33:04.088395Z"
    }
   },
   "id": "dffa0e50055d40b3",
   "execution_count": 7
  },
  {
   "cell_type": "markdown",
   "source": [
    "Info of the data. \n",
    "\n",
    "--> To check about the missing values. "
   ],
   "metadata": {
    "collapsed": false
   },
   "id": "24c34d42a0ed8fc0"
  },
  {
   "cell_type": "code",
   "outputs": [
    {
     "name": "stdout",
     "output_type": "stream",
     "text": [
      "<class 'pandas.core.frame.DataFrame'>\n",
      "RangeIndex: 50000 entries, 0 to 49999\n",
      "Data columns (total 2 columns):\n",
      " #   Column     Non-Null Count  Dtype \n",
      "---  ------     --------------  ----- \n",
      " 0   review     50000 non-null  object\n",
      " 1   sentiment  50000 non-null  object\n",
      "dtypes: object(2)\n",
      "memory usage: 781.4+ KB\n"
     ]
    }
   ],
   "source": [
    "df.info()                       # There are no missing values present in the data. "
   ],
   "metadata": {
    "collapsed": false,
    "ExecuteTime": {
     "end_time": "2024-06-29T10:33:04.702579Z",
     "start_time": "2024-06-29T10:33:04.693659Z"
    }
   },
   "id": "135b74141b61f193",
   "execution_count": 8
  },
  {
   "cell_type": "markdown",
   "source": [
    "Text preprocessing. \n",
    "\n",
    "--> Removal html tags.\n",
    "--> Removal special characters. \n",
    "--> Converting everything to the lower  case. \n",
    "--> Removal of stop words. \n",
    "--> Stemming. "
   ],
   "metadata": {
    "collapsed": false
   },
   "id": "5361d93b05f79422"
  },
  {
   "cell_type": "code",
   "outputs": [],
   "source": [
    "# Removal of html tags. \n",
    "def rem_html(text: str) -> str:\n",
    "    eg_text = re.compile(\"<.*?>\")   \n",
    "    return re.sub(eg_text, \" \", text)\n",
    "\n",
    "def rem_specialChar(text: str) -> str:\n",
    "    #Specific\n",
    "    phrase = re.sub(r\"won't\", r\"will not\", text)\n",
    "    phrase = re.sub(r\"don't\", r\"do not\", phrase)\n",
    "    phrase = re.sub(r\"can't\", r\"can not\", phrase)\n",
    "    \n",
    "    #General\n",
    "    phrase = re.sub(r\"n't\", r\" not\", phrase)\n",
    "    phrase = re.sub(r\"'s\", r\" is\", phrase)\n",
    "    phrase = re.sub(r\"'m\", r\" am\", phrase)\n",
    "    phrase = re.sub(r\"'re\", r\" are\", phrase)\n",
    "    phrase = re.sub(r\"'ll\", r\" will\", phrase)\n",
    "    phrase = re.sub(r\"'t\", r\" not\", phrase)\n",
    "    phrase = re.sub(r\"'ve\", r\" have\", phrase)\n",
    "    \n",
    "    # Clean punctuations\n",
    "    phrase = re.sub(r'[?|!|\\'|\"|#|@|:]', r'', phrase)\n",
    "    phrase = re.sub(r'[(|)|.|,|\\|/]', r'', phrase)\n",
    "    phrase = re.sub(r'-', r' ', phrase)    \n",
    "    \n",
    "    # Special characters (Remove all words which are not in that range)\n",
    "    phrase = re.sub(r'[^A-Za-z0-9]+', r' ', phrase)\n",
    "    \n",
    "    # Remove all the alphanumeric words\n",
    "    phrase = re.sub(r'\\S*\\d\\S*', r'', phrase)\n",
    "    return phrase\n",
    "\n",
    "def lowercase(text: str) -> str:\n",
    "    return text.lower()\n",
    "\n",
    "def tokens(text: str) -> list[str]:\n",
    "    return text.split()\n",
    "\n",
    "def rem_stopwords(text: list[str]) -> list[str]:\n",
    "    stop = stopwords.words('english')\n",
    "    return [word for word in text if word not in stop]\n",
    "\n",
    "def rem_stemmer(text: list[str]) -> list[str]:\n",
    "    stemmer = PorterStemmer()\n",
    "    ls: list = []\n",
    "    for word in text:\n",
    "        ls.append(stemmer.stem(word))\n",
    "    return ls\n",
    "\n",
    "def join_words(text: list[str]) -> str:\n",
    "    return \" \".join(text)"
   ],
   "metadata": {
    "collapsed": false,
    "ExecuteTime": {
     "end_time": "2024-06-29T10:33:04.709133Z",
     "start_time": "2024-06-29T10:33:04.703326Z"
    }
   },
   "id": "5ec0cbef3aef16b6",
   "execution_count": 9
  },
  {
   "cell_type": "markdown",
   "source": [
    "Here I am applying text preprocessing in all the data. This is not the correct way of preprocessing the data (data leakage problem) but for text data it is fine. "
   ],
   "metadata": {
    "collapsed": false
   },
   "id": "ce7c40cce203ff4c"
  },
  {
   "cell_type": "code",
   "outputs": [],
   "source": [
    "# Because of memory issue let's take only 20,000 data points. \n",
    "\n",
    "df = df.sample(20000, random_state=47)"
   ],
   "metadata": {
    "collapsed": false,
    "ExecuteTime": {
     "end_time": "2024-06-29T10:33:04.720115Z",
     "start_time": "2024-06-29T10:33:04.710562Z"
    }
   },
   "id": "7744de62be615b87",
   "execution_count": 10
  },
  {
   "cell_type": "code",
   "outputs": [
    {
     "name": "stdout",
     "output_type": "stream",
     "text": [
      "                                                  review sentiment\n",
      "48243  [cleo, second, husband, amateurish, attempt, p...  negative\n",
      "48967  [first, would, like, clarifi, consid, one, fun...  negative\n",
      "36155  [volcano, set, lo, angel, minor, earthquak, hi...  negative\n"
     ]
    }
   ],
   "source": [
    "df['review'] = df['review'].apply(rem_html)\n",
    "df['review'] = df['review'].apply(rem_specialChar)\n",
    "df['review'] = df['review'].apply(lowercase)\n",
    "df['review'] = df['review'].apply(tokens)\n",
    "df['review'] = df['review'].apply(rem_stopwords)\n",
    "df['review'] = df['review'].apply(rem_stemmer)\n",
    "print(df.head(3))"
   ],
   "metadata": {
    "collapsed": false,
    "ExecuteTime": {
     "end_time": "2024-06-29T10:33:38.047463Z",
     "start_time": "2024-06-29T10:33:04.721125Z"
    }
   },
   "id": "1e9a4f124518a500",
   "execution_count": 11
  },
  {
   "cell_type": "code",
   "outputs": [],
   "source": [
    "df['review'] = df['review'].apply(join_words)"
   ],
   "metadata": {
    "collapsed": false,
    "ExecuteTime": {
     "end_time": "2024-06-29T10:33:38.133608Z",
     "start_time": "2024-06-29T10:33:38.048659Z"
    }
   },
   "id": "329239ba26794ca6",
   "execution_count": 12
  },
  {
   "cell_type": "markdown",
   "source": [
    "Now convert the sentiments into 0 (negative) and 1 (positive)."
   ],
   "metadata": {
    "collapsed": false
   },
   "id": "18f80e551c028bf3"
  },
  {
   "cell_type": "code",
   "outputs": [
    {
     "name": "stdout",
     "output_type": "stream",
     "text": [
      "                                                  review  sentiment\n",
      "48243  cleo second husband amateurish attempt psychod...          0\n",
      "48967  first would like clarifi consid one funniest f...          0\n",
      "36155  volcano set lo angel minor earthquak hit vacat...          0\n"
     ]
    },
    {
     "name": "stderr",
     "output_type": "stream",
     "text": [
      "/var/folders/9c/7jq79dg16qqdqst791mgh63w0000gn/T/ipykernel_28575/140927076.py:1: FutureWarning: A value is trying to be set on a copy of a DataFrame or Series through chained assignment using an inplace method.\n",
      "The behavior will change in pandas 3.0. This inplace method will never work because the intermediate object on which we are setting values always behaves as a copy.\n",
      "\n",
      "For example, when doing 'df[col].method(value, inplace=True)', try using 'df.method({col: value}, inplace=True)' or df[col] = df[col].method(value) instead, to perform the operation inplace on the original object.\n",
      "\n",
      "\n",
      "  df['sentiment'].replace({'positive': 1, 'negative': 0}, inplace=True)\n",
      "/var/folders/9c/7jq79dg16qqdqst791mgh63w0000gn/T/ipykernel_28575/140927076.py:1: FutureWarning: Downcasting behavior in `replace` is deprecated and will be removed in a future version. To retain the old behavior, explicitly call `result.infer_objects(copy=False)`. To opt-in to the future behavior, set `pd.set_option('future.no_silent_downcasting', True)`\n",
      "  df['sentiment'].replace({'positive': 1, 'negative': 0}, inplace=True)\n"
     ]
    }
   ],
   "source": [
    "df['sentiment'].replace({'positive': 1, 'negative': 0}, inplace=True)\n",
    "print(df.head(3))"
   ],
   "metadata": {
    "collapsed": false,
    "ExecuteTime": {
     "end_time": "2024-06-29T10:33:38.150885Z",
     "start_time": "2024-06-29T10:33:38.134476Z"
    }
   },
   "id": "d762d1a6feb599d1",
   "execution_count": 13
  },
  {
   "cell_type": "markdown",
   "source": [
    "Now it's time to convert each unique word into unique feature. Here we are making our own vocabulary or text corpus or dictionary based on the data we have.    "
   ],
   "metadata": {
    "collapsed": false
   },
   "id": "7ae77c12eb9876c0"
  },
  {
   "cell_type": "code",
   "outputs": [
    {
     "name": "stdout",
     "output_type": "stream",
     "text": [
      "(20000, 58702)\n",
      "Number of data points: 20000\n",
      "Number of unique words/features: 58702\n"
     ]
    }
   ],
   "source": [
    "from sklearn.feature_extraction.text import CountVectorizer\n",
    "\n",
    "cv = CountVectorizer()\n",
    "X = cv.fit_transform(df['review']).toarray()\n",
    "print(X.shape)\n",
    "print(f\"Number of data points: {X.shape[0]}\")\n",
    "print(f\"Number of unique words/features: {X.shape[1]}\")"
   ],
   "metadata": {
    "collapsed": false,
    "ExecuteTime": {
     "end_time": "2024-06-29T10:33:40.150223Z",
     "start_time": "2024-06-29T10:33:38.151770Z"
    }
   },
   "id": "b2f5c36bb943c697",
   "execution_count": 14
  },
  {
   "cell_type": "code",
   "outputs": [
    {
     "name": "stdout",
     "output_type": "stream",
     "text": [
      "Number of sentiments: 20000\n"
     ]
    }
   ],
   "source": [
    "Y = df.iloc[:, -1].values\n",
    "print(f\"Number of sentiments: {Y.shape[0]}\")"
   ],
   "metadata": {
    "collapsed": false,
    "ExecuteTime": {
     "end_time": "2024-06-29T10:33:40.153810Z",
     "start_time": "2024-06-29T10:33:40.151383Z"
    }
   },
   "id": "c151f4a5a2d874eb",
   "execution_count": 15
  },
  {
   "cell_type": "markdown",
   "source": [
    "Split my data into train and test dataset. "
   ],
   "metadata": {
    "collapsed": false
   },
   "id": "b4fcceb421c093be"
  },
  {
   "cell_type": "code",
   "outputs": [
    {
     "name": "stdout",
     "output_type": "stream",
     "text": [
      "Number of data points in training dataset: 16000\n"
     ]
    }
   ],
   "source": [
    "from sklearn.model_selection import train_test_split\n",
    "X_train, X_test, Y_train, Y_test = train_test_split(X, Y, test_size=0.2, random_state=0)\n",
    "print(f\"Number of data points in training dataset: {X_train.shape[0]}\")"
   ],
   "metadata": {
    "collapsed": false,
    "ExecuteTime": {
     "end_time": "2024-06-29T10:33:44.067752Z",
     "start_time": "2024-06-29T10:33:40.155817Z"
    }
   },
   "id": "c62b8d5656f33049",
   "execution_count": 16
  },
  {
   "cell_type": "code",
   "outputs": [],
   "source": [
    "from sklearn.naive_bayes import GaussianNB, BernoulliNB, MultinomialNB\n",
    "\n",
    "clf1 = GaussianNB()\n",
    "clf2 = BernoulliNB()\n",
    "clf3 = MultinomialNB()"
   ],
   "metadata": {
    "collapsed": false,
    "ExecuteTime": {
     "end_time": "2024-06-29T10:33:44.078095Z",
     "start_time": "2024-06-29T10:33:44.069826Z"
    }
   },
   "id": "a5eb7ab37f2d6de9",
   "execution_count": 17
  },
  {
   "cell_type": "markdown",
   "source": [
    "Now let's train the models clf1, clf2, and clf3."
   ],
   "metadata": {
    "collapsed": false
   },
   "id": "3b3dd3e5f6132c1e"
  },
  {
   "cell_type": "code",
   "outputs": [
    {
     "data": {
      "text/plain": "MultinomialNB()",
      "text/html": "<style>#sk-container-id-1 {\n  /* Definition of color scheme common for light and dark mode */\n  --sklearn-color-text: black;\n  --sklearn-color-line: gray;\n  /* Definition of color scheme for unfitted estimators */\n  --sklearn-color-unfitted-level-0: #fff5e6;\n  --sklearn-color-unfitted-level-1: #f6e4d2;\n  --sklearn-color-unfitted-level-2: #ffe0b3;\n  --sklearn-color-unfitted-level-3: chocolate;\n  /* Definition of color scheme for fitted estimators */\n  --sklearn-color-fitted-level-0: #f0f8ff;\n  --sklearn-color-fitted-level-1: #d4ebff;\n  --sklearn-color-fitted-level-2: #b3dbfd;\n  --sklearn-color-fitted-level-3: cornflowerblue;\n\n  /* Specific color for light theme */\n  --sklearn-color-text-on-default-background: var(--sg-text-color, var(--theme-code-foreground, var(--jp-content-font-color1, black)));\n  --sklearn-color-background: var(--sg-background-color, var(--theme-background, var(--jp-layout-color0, white)));\n  --sklearn-color-border-box: var(--sg-text-color, var(--theme-code-foreground, var(--jp-content-font-color1, black)));\n  --sklearn-color-icon: #696969;\n\n  @media (prefers-color-scheme: dark) {\n    /* Redefinition of color scheme for dark theme */\n    --sklearn-color-text-on-default-background: var(--sg-text-color, var(--theme-code-foreground, var(--jp-content-font-color1, white)));\n    --sklearn-color-background: var(--sg-background-color, var(--theme-background, var(--jp-layout-color0, #111)));\n    --sklearn-color-border-box: var(--sg-text-color, var(--theme-code-foreground, var(--jp-content-font-color1, white)));\n    --sklearn-color-icon: #878787;\n  }\n}\n\n#sk-container-id-1 {\n  color: var(--sklearn-color-text);\n}\n\n#sk-container-id-1 pre {\n  padding: 0;\n}\n\n#sk-container-id-1 input.sk-hidden--visually {\n  border: 0;\n  clip: rect(1px 1px 1px 1px);\n  clip: rect(1px, 1px, 1px, 1px);\n  height: 1px;\n  margin: -1px;\n  overflow: hidden;\n  padding: 0;\n  position: absolute;\n  width: 1px;\n}\n\n#sk-container-id-1 div.sk-dashed-wrapped {\n  border: 1px dashed var(--sklearn-color-line);\n  margin: 0 0.4em 0.5em 0.4em;\n  box-sizing: border-box;\n  padding-bottom: 0.4em;\n  background-color: var(--sklearn-color-background);\n}\n\n#sk-container-id-1 div.sk-container {\n  /* jupyter's `normalize.less` sets `[hidden] { display: none; }`\n     but bootstrap.min.css set `[hidden] { display: none !important; }`\n     so we also need the `!important` here to be able to override the\n     default hidden behavior on the sphinx rendered scikit-learn.org.\n     See: https://github.com/scikit-learn/scikit-learn/issues/21755 */\n  display: inline-block !important;\n  position: relative;\n}\n\n#sk-container-id-1 div.sk-text-repr-fallback {\n  display: none;\n}\n\ndiv.sk-parallel-item,\ndiv.sk-serial,\ndiv.sk-item {\n  /* draw centered vertical line to link estimators */\n  background-image: linear-gradient(var(--sklearn-color-text-on-default-background), var(--sklearn-color-text-on-default-background));\n  background-size: 2px 100%;\n  background-repeat: no-repeat;\n  background-position: center center;\n}\n\n/* Parallel-specific style estimator block */\n\n#sk-container-id-1 div.sk-parallel-item::after {\n  content: \"\";\n  width: 100%;\n  border-bottom: 2px solid var(--sklearn-color-text-on-default-background);\n  flex-grow: 1;\n}\n\n#sk-container-id-1 div.sk-parallel {\n  display: flex;\n  align-items: stretch;\n  justify-content: center;\n  background-color: var(--sklearn-color-background);\n  position: relative;\n}\n\n#sk-container-id-1 div.sk-parallel-item {\n  display: flex;\n  flex-direction: column;\n}\n\n#sk-container-id-1 div.sk-parallel-item:first-child::after {\n  align-self: flex-end;\n  width: 50%;\n}\n\n#sk-container-id-1 div.sk-parallel-item:last-child::after {\n  align-self: flex-start;\n  width: 50%;\n}\n\n#sk-container-id-1 div.sk-parallel-item:only-child::after {\n  width: 0;\n}\n\n/* Serial-specific style estimator block */\n\n#sk-container-id-1 div.sk-serial {\n  display: flex;\n  flex-direction: column;\n  align-items: center;\n  background-color: var(--sklearn-color-background);\n  padding-right: 1em;\n  padding-left: 1em;\n}\n\n\n/* Toggleable style: style used for estimator/Pipeline/ColumnTransformer box that is\nclickable and can be expanded/collapsed.\n- Pipeline and ColumnTransformer use this feature and define the default style\n- Estimators will overwrite some part of the style using the `sk-estimator` class\n*/\n\n/* Pipeline and ColumnTransformer style (default) */\n\n#sk-container-id-1 div.sk-toggleable {\n  /* Default theme specific background. It is overwritten whether we have a\n  specific estimator or a Pipeline/ColumnTransformer */\n  background-color: var(--sklearn-color-background);\n}\n\n/* Toggleable label */\n#sk-container-id-1 label.sk-toggleable__label {\n  cursor: pointer;\n  display: block;\n  width: 100%;\n  margin-bottom: 0;\n  padding: 0.5em;\n  box-sizing: border-box;\n  text-align: center;\n}\n\n#sk-container-id-1 label.sk-toggleable__label-arrow:before {\n  /* Arrow on the left of the label */\n  content: \"▸\";\n  float: left;\n  margin-right: 0.25em;\n  color: var(--sklearn-color-icon);\n}\n\n#sk-container-id-1 label.sk-toggleable__label-arrow:hover:before {\n  color: var(--sklearn-color-text);\n}\n\n/* Toggleable content - dropdown */\n\n#sk-container-id-1 div.sk-toggleable__content {\n  max-height: 0;\n  max-width: 0;\n  overflow: hidden;\n  text-align: left;\n  /* unfitted */\n  background-color: var(--sklearn-color-unfitted-level-0);\n}\n\n#sk-container-id-1 div.sk-toggleable__content.fitted {\n  /* fitted */\n  background-color: var(--sklearn-color-fitted-level-0);\n}\n\n#sk-container-id-1 div.sk-toggleable__content pre {\n  margin: 0.2em;\n  border-radius: 0.25em;\n  color: var(--sklearn-color-text);\n  /* unfitted */\n  background-color: var(--sklearn-color-unfitted-level-0);\n}\n\n#sk-container-id-1 div.sk-toggleable__content.fitted pre {\n  /* unfitted */\n  background-color: var(--sklearn-color-fitted-level-0);\n}\n\n#sk-container-id-1 input.sk-toggleable__control:checked~div.sk-toggleable__content {\n  /* Expand drop-down */\n  max-height: 200px;\n  max-width: 100%;\n  overflow: auto;\n}\n\n#sk-container-id-1 input.sk-toggleable__control:checked~label.sk-toggleable__label-arrow:before {\n  content: \"▾\";\n}\n\n/* Pipeline/ColumnTransformer-specific style */\n\n#sk-container-id-1 div.sk-label input.sk-toggleable__control:checked~label.sk-toggleable__label {\n  color: var(--sklearn-color-text);\n  background-color: var(--sklearn-color-unfitted-level-2);\n}\n\n#sk-container-id-1 div.sk-label.fitted input.sk-toggleable__control:checked~label.sk-toggleable__label {\n  background-color: var(--sklearn-color-fitted-level-2);\n}\n\n/* Estimator-specific style */\n\n/* Colorize estimator box */\n#sk-container-id-1 div.sk-estimator input.sk-toggleable__control:checked~label.sk-toggleable__label {\n  /* unfitted */\n  background-color: var(--sklearn-color-unfitted-level-2);\n}\n\n#sk-container-id-1 div.sk-estimator.fitted input.sk-toggleable__control:checked~label.sk-toggleable__label {\n  /* fitted */\n  background-color: var(--sklearn-color-fitted-level-2);\n}\n\n#sk-container-id-1 div.sk-label label.sk-toggleable__label,\n#sk-container-id-1 div.sk-label label {\n  /* The background is the default theme color */\n  color: var(--sklearn-color-text-on-default-background);\n}\n\n/* On hover, darken the color of the background */\n#sk-container-id-1 div.sk-label:hover label.sk-toggleable__label {\n  color: var(--sklearn-color-text);\n  background-color: var(--sklearn-color-unfitted-level-2);\n}\n\n/* Label box, darken color on hover, fitted */\n#sk-container-id-1 div.sk-label.fitted:hover label.sk-toggleable__label.fitted {\n  color: var(--sklearn-color-text);\n  background-color: var(--sklearn-color-fitted-level-2);\n}\n\n/* Estimator label */\n\n#sk-container-id-1 div.sk-label label {\n  font-family: monospace;\n  font-weight: bold;\n  display: inline-block;\n  line-height: 1.2em;\n}\n\n#sk-container-id-1 div.sk-label-container {\n  text-align: center;\n}\n\n/* Estimator-specific */\n#sk-container-id-1 div.sk-estimator {\n  font-family: monospace;\n  border: 1px dotted var(--sklearn-color-border-box);\n  border-radius: 0.25em;\n  box-sizing: border-box;\n  margin-bottom: 0.5em;\n  /* unfitted */\n  background-color: var(--sklearn-color-unfitted-level-0);\n}\n\n#sk-container-id-1 div.sk-estimator.fitted {\n  /* fitted */\n  background-color: var(--sklearn-color-fitted-level-0);\n}\n\n/* on hover */\n#sk-container-id-1 div.sk-estimator:hover {\n  /* unfitted */\n  background-color: var(--sklearn-color-unfitted-level-2);\n}\n\n#sk-container-id-1 div.sk-estimator.fitted:hover {\n  /* fitted */\n  background-color: var(--sklearn-color-fitted-level-2);\n}\n\n/* Specification for estimator info (e.g. \"i\" and \"?\") */\n\n/* Common style for \"i\" and \"?\" */\n\n.sk-estimator-doc-link,\na:link.sk-estimator-doc-link,\na:visited.sk-estimator-doc-link {\n  float: right;\n  font-size: smaller;\n  line-height: 1em;\n  font-family: monospace;\n  background-color: var(--sklearn-color-background);\n  border-radius: 1em;\n  height: 1em;\n  width: 1em;\n  text-decoration: none !important;\n  margin-left: 1ex;\n  /* unfitted */\n  border: var(--sklearn-color-unfitted-level-1) 1pt solid;\n  color: var(--sklearn-color-unfitted-level-1);\n}\n\n.sk-estimator-doc-link.fitted,\na:link.sk-estimator-doc-link.fitted,\na:visited.sk-estimator-doc-link.fitted {\n  /* fitted */\n  border: var(--sklearn-color-fitted-level-1) 1pt solid;\n  color: var(--sklearn-color-fitted-level-1);\n}\n\n/* On hover */\ndiv.sk-estimator:hover .sk-estimator-doc-link:hover,\n.sk-estimator-doc-link:hover,\ndiv.sk-label-container:hover .sk-estimator-doc-link:hover,\n.sk-estimator-doc-link:hover {\n  /* unfitted */\n  background-color: var(--sklearn-color-unfitted-level-3);\n  color: var(--sklearn-color-background);\n  text-decoration: none;\n}\n\ndiv.sk-estimator.fitted:hover .sk-estimator-doc-link.fitted:hover,\n.sk-estimator-doc-link.fitted:hover,\ndiv.sk-label-container:hover .sk-estimator-doc-link.fitted:hover,\n.sk-estimator-doc-link.fitted:hover {\n  /* fitted */\n  background-color: var(--sklearn-color-fitted-level-3);\n  color: var(--sklearn-color-background);\n  text-decoration: none;\n}\n\n/* Span, style for the box shown on hovering the info icon */\n.sk-estimator-doc-link span {\n  display: none;\n  z-index: 9999;\n  position: relative;\n  font-weight: normal;\n  right: .2ex;\n  padding: .5ex;\n  margin: .5ex;\n  width: min-content;\n  min-width: 20ex;\n  max-width: 50ex;\n  color: var(--sklearn-color-text);\n  box-shadow: 2pt 2pt 4pt #999;\n  /* unfitted */\n  background: var(--sklearn-color-unfitted-level-0);\n  border: .5pt solid var(--sklearn-color-unfitted-level-3);\n}\n\n.sk-estimator-doc-link.fitted span {\n  /* fitted */\n  background: var(--sklearn-color-fitted-level-0);\n  border: var(--sklearn-color-fitted-level-3);\n}\n\n.sk-estimator-doc-link:hover span {\n  display: block;\n}\n\n/* \"?\"-specific style due to the `<a>` HTML tag */\n\n#sk-container-id-1 a.estimator_doc_link {\n  float: right;\n  font-size: 1rem;\n  line-height: 1em;\n  font-family: monospace;\n  background-color: var(--sklearn-color-background);\n  border-radius: 1rem;\n  height: 1rem;\n  width: 1rem;\n  text-decoration: none;\n  /* unfitted */\n  color: var(--sklearn-color-unfitted-level-1);\n  border: var(--sklearn-color-unfitted-level-1) 1pt solid;\n}\n\n#sk-container-id-1 a.estimator_doc_link.fitted {\n  /* fitted */\n  border: var(--sklearn-color-fitted-level-1) 1pt solid;\n  color: var(--sklearn-color-fitted-level-1);\n}\n\n/* On hover */\n#sk-container-id-1 a.estimator_doc_link:hover {\n  /* unfitted */\n  background-color: var(--sklearn-color-unfitted-level-3);\n  color: var(--sklearn-color-background);\n  text-decoration: none;\n}\n\n#sk-container-id-1 a.estimator_doc_link.fitted:hover {\n  /* fitted */\n  background-color: var(--sklearn-color-fitted-level-3);\n}\n</style><div id=\"sk-container-id-1\" class=\"sk-top-container\"><div class=\"sk-text-repr-fallback\"><pre>MultinomialNB()</pre><b>In a Jupyter environment, please rerun this cell to show the HTML representation or trust the notebook. <br />On GitHub, the HTML representation is unable to render, please try loading this page with nbviewer.org.</b></div><div class=\"sk-container\" hidden><div class=\"sk-item\"><div class=\"sk-estimator fitted sk-toggleable\"><input class=\"sk-toggleable__control sk-hidden--visually\" id=\"sk-estimator-id-1\" type=\"checkbox\" checked><label for=\"sk-estimator-id-1\" class=\"sk-toggleable__label fitted sk-toggleable__label-arrow fitted\">&nbsp;&nbsp;MultinomialNB<a class=\"sk-estimator-doc-link fitted\" rel=\"noreferrer\" target=\"_blank\" href=\"https://scikit-learn.org/1.4/modules/generated/sklearn.naive_bayes.MultinomialNB.html\">?<span>Documentation for MultinomialNB</span></a><span class=\"sk-estimator-doc-link fitted\">i<span>Fitted</span></span></label><div class=\"sk-toggleable__content fitted\"><pre>MultinomialNB()</pre></div> </div></div></div></div>"
     },
     "execution_count": 18,
     "metadata": {},
     "output_type": "execute_result"
    }
   ],
   "source": [
    "clf1.fit(X_train, Y_train)\n",
    "clf2.fit(X_train, Y_train)\n",
    "clf3.fit(X_train, Y_train)"
   ],
   "metadata": {
    "collapsed": false,
    "ExecuteTime": {
     "end_time": "2024-06-29T10:35:35.033404Z",
     "start_time": "2024-06-29T10:33:44.079235Z"
    }
   },
   "id": "35ccfe176d07672a",
   "execution_count": 18
  },
  {
   "cell_type": "markdown",
   "source": [
    "Let's predict on test dataset. "
   ],
   "metadata": {
    "collapsed": false
   },
   "id": "c68f63cda0c77ea1"
  },
  {
   "cell_type": "code",
   "outputs": [],
   "source": [
    "y_pred1 = clf1.predict(X_test)\n",
    "y_pred2 = clf2.predict(X_test)\n",
    "y_pred3 = clf3.predict(X_test)"
   ],
   "metadata": {
    "collapsed": false,
    "ExecuteTime": {
     "end_time": "2024-06-29T10:35:43.236972Z",
     "start_time": "2024-06-29T10:35:35.037303Z"
    }
   },
   "id": "afdbe1f56ad10956",
   "execution_count": 19
  },
  {
   "cell_type": "markdown",
   "source": [
    "Finding accuracy for all the models. "
   ],
   "metadata": {
    "collapsed": false
   },
   "id": "a9d2f257217cc4e4"
  },
  {
   "cell_type": "code",
   "outputs": [
    {
     "name": "stdout",
     "output_type": "stream",
     "text": [
      "Accuracy value for GaussianNB: 0.628\n",
      "Accuracy value for BernoulliNB: 0.8425\n",
      "Accuracy value for MultinomialNB: 0.85475\n"
     ]
    }
   ],
   "source": [
    "from sklearn.metrics import accuracy_score\n",
    "\n",
    "print(f\"Accuracy value for GaussianNB: {accuracy_score(Y_test, y_pred1)}\")\n",
    "print(f\"Accuracy value for BernoulliNB: {accuracy_score(Y_test, y_pred2)}\")\n",
    "print(f\"Accuracy value for MultinomialNB: {accuracy_score(Y_test, y_pred3)}\")"
   ],
   "metadata": {
    "collapsed": false,
    "ExecuteTime": {
     "end_time": "2024-06-29T10:35:43.296869Z",
     "start_time": "2024-06-29T10:35:43.243332Z"
    }
   },
   "id": "1266804c520c75a4",
   "execution_count": 20
  },
  {
   "cell_type": "markdown",
   "source": [
    "It shows that features are not normally distributed. "
   ],
   "metadata": {
    "collapsed": false
   },
   "id": "4e4e038a63305ecc"
  },
  {
   "cell_type": "markdown",
   "source": [
    "Now How can we increase the accuracy of the model. \n",
    "\n",
    "1. We can use CrossValidation and find the optimized value of hyperparameters in the models. GaussianNB --> var_smoothing=1e-09, BernoulliNB and MultinomialNB --> alpha=1.0\n",
    "2. We can change the max_feature value in CountVectorizer and see how it is changing the output. \n",
    "\n",
    "For now, we are only going with the second option. "
   ],
   "metadata": {
    "collapsed": false
   },
   "id": "97e347fee2333151"
  },
  {
   "cell_type": "code",
   "outputs": [],
   "source": [
    "def optimum_maxFeature():\n",
    "    max_feature = [i for i in range(10000, 55000, 5000)]\n",
    "    accuracy1 = []\n",
    "    accuracy2 = []\n",
    "    accuracy3 = []\n",
    "    for i in max_feature:\n",
    "        cv_ = CountVectorizer(max_features=i)\n",
    "        X1 = cv_.fit_transform(df['review']).toarray()\n",
    "        Y1 = df.iloc[:, -1].values\n",
    "        X_train_, X_test_, Y_train_, Y_test_ = train_test_split(X1, Y1, test_size=0.2, random_state=0)\n",
    "        clf1_ = GaussianNB()\n",
    "        clf2_ = BernoulliNB()\n",
    "        clf3_ = MultinomialNB()\n",
    "        clf1_.fit(X_train_, Y_train_)\n",
    "        clf2_.fit(X_train_, Y_train_)\n",
    "        clf3_.fit(X_train_, Y_train_)\n",
    "        y_pred1_ = clf1_.predict(X_test_)\n",
    "        y_pred2_ = clf2_.predict(X_test_)\n",
    "        y_pred3_ = clf3_.predict(X_test_)\n",
    "        accuracy1.append(accuracy_score(Y_test_, y_pred1_))\n",
    "        accuracy2.append(accuracy_score(Y_test_, y_pred2_))\n",
    "        accuracy3.append(accuracy_score(Y_test_, y_pred3_))\n",
    "    return accuracy1, accuracy2, accuracy3\n",
    "\n",
    "accuracy1, accuracy2, accuracy3 = optimum_maxFeature()\n",
    "max_feature = [i for i in range(10000, 55000, 5000)]\n",
    "\n",
    "import matplotlib.pyplot as plt\n",
    "plt.plot(accuracy1, max_feature)\n",
    "plt.plot(accuracy2, max_feature)\n",
    "plt.plot(accuracy3, max_feature)"
   ],
   "metadata": {
    "collapsed": false,
    "is_executing": true,
    "ExecuteTime": {
     "start_time": "2024-06-29T11:05:31.573356Z"
    }
   },
   "id": "f0a9a223cc6687e8",
   "execution_count": null
  }
 ],
 "metadata": {
  "kernelspec": {
   "display_name": "Python 3",
   "language": "python",
   "name": "python3"
  },
  "language_info": {
   "codemirror_mode": {
    "name": "ipython",
    "version": 2
   },
   "file_extension": ".py",
   "mimetype": "text/x-python",
   "name": "python",
   "nbconvert_exporter": "python",
   "pygments_lexer": "ipython2",
   "version": "2.7.6"
  }
 },
 "nbformat": 4,
 "nbformat_minor": 5
}
