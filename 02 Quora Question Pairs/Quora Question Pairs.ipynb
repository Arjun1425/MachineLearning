{
 "cells": [
  {
   "cell_type": "markdown",
   "source": [
    "# Quora Question Pairs"
   ],
   "metadata": {
    "collapsed": false
   },
   "id": "e3ca22880db3a2a0"
  },
  {
   "cell_type": "markdown",
   "source": [
    "**1. Business Problem**"
   ],
   "metadata": {
    "collapsed": false
   },
   "id": "ceadd4ab85a828d8"
  },
  {
   "cell_type": "markdown",
   "source": [
    "**1.1 Description**"
   ],
   "metadata": {
    "collapsed": false
   },
   "id": "7f9fcd667d7d99c5"
  },
  {
   "cell_type": "markdown",
   "source": [
    "Quora is a place to gain and share knowledge—about anything. It’s a platform to ask questions and connect with people who contribute unique insights and quality answers. This empowers people to learn from each other and to better understand the world.\n",
    "\n",
    "Over 100 million people visit Quora every month, so it's no surprise that many people ask similarly worded questions. Multiple questions with the same intent can cause seekers to spend more time finding the best answer to their question, and make writers feel they need to answer multiple versions of the same question. Quora values canonical questions because they provide a better experience to active seekers and writers, and offer more value to both of these groups in the long term.\n",
    "\n",
    "> Credits: Kaggle"
   ],
   "metadata": {
    "collapsed": false
   },
   "id": "dab7f0a7c8d0e8ed"
  },
  {
   "cell_type": "markdown",
   "source": [
    "__ Problem Statement __\n",
    "\n",
    "* Identify which questions asked on Quora are duplicates of questions that have already been asked.\n",
    "* This could be useful to instantly provide answers to questions that have already been answered.\n",
    "* We are tasked with predicting whether a pair of questions are duplicates or not."
   ],
   "metadata": {
    "collapsed": false
   },
   "id": "63cdb89ebb3119b9"
  },
  {
   "cell_type": "markdown",
   "source": [
    "**1.2 Sources/Useful Links**"
   ],
   "metadata": {
    "collapsed": false
   },
   "id": "6b3e612ca79075a7"
  },
  {
   "cell_type": "markdown",
   "source": [
    "Source : https://www.kaggle.com/c/quora-question-pairs\n",
    "\n",
    "__ Useful Links __\n",
    "Discussions : https://www.kaggle.com/anokas/data-analysis-xgboost-starter-0-35460-lb/comments\n",
    "Kaggle Winning Solution and other approaches: https://www.dropbox.com/sh/93968nfnrzh8bp5/AACZdtsApc1QSTQc7X0H3QZ5a?dl=0\n",
    "Blog 1 : https://engineering.quora.com/Semantic-Question-Matching-with-Deep-Learning\n",
    "Blog 2 : https://towardsdatascience.com/identifying-duplicate-questions-on-quora-top-12-on-kaggle-4c1cf93f1c30"
   ],
   "metadata": {
    "collapsed": false
   },
   "id": "8f0a054e0c402b17"
  },
  {
   "cell_type": "markdown",
   "source": [
    "**1.3 Real world/Business Objectives and Constraints**"
   ],
   "metadata": {
    "collapsed": false
   },
   "id": "d27922c59d3afbf3"
  },
  {
   "cell_type": "markdown",
   "source": [
    "1. The cost of a mis-classification can be very high.\n",
    "2. You would want a probability of a pair of questions to be duplicates so that you can choose any threshold of choice.\n",
    "3. No strict latency concerns.\n",
    "4. Interpretability is partially important."
   ],
   "metadata": {
    "collapsed": false
   },
   "id": "a924c2cb4679af9d"
  },
  {
   "cell_type": "markdown",
   "source": [
    "**2. Machine Learning Problem**"
   ],
   "metadata": {
    "collapsed": false
   },
   "id": "d8a9a8395fa5db45"
  },
  {
   "cell_type": "markdown",
   "source": [
    "**2.1 Data**"
   ],
   "metadata": {
    "collapsed": false
   },
   "id": "64d50c7fac36c573"
  },
  {
   "cell_type": "markdown",
   "source": [
    "**2.1.1 Data Overview**"
   ],
   "metadata": {
    "collapsed": false
   },
   "id": "1810b89565dca15"
  },
  {
   "cell_type": "markdown",
   "source": [
    "- Data will be in a file Train.csv\n",
    "- Train.csv contains 5 columns : qid1, qid2, question1, question2, is_duplicate\n",
    "- Size of Train.csv - 60MB\n",
    "- Number of rows in Train.csv = 404,290"
   ],
   "metadata": {
    "collapsed": false
   },
   "id": "d0c8dc87ad5fc819"
  },
  {
   "cell_type": "markdown",
   "source": [
    "**2.1.2 Example Data point**"
   ],
   "metadata": {
    "collapsed": false
   },
   "id": "3b5fc71d1f76a48b"
  },
  {
   "cell_type": "markdown",
   "source": [
    "<pre>\n",
    "\"id\",\"qid1\",\"qid2\",\"question1\",\"question2\",\"is_duplicate\"\n",
    "\"0\",\"1\",\"2\",\"What is the step by step guide to invest in share market in india?\",\"What is the step by step guide to invest in share market?\",\"0\"\n",
    "\"1\",\"3\",\"4\",\"What is the story of Kohinoor (Koh-i-Noor) Diamond?\",\"What would happen if the Indian government stole the Kohinoor (Koh-i-Noor) diamond back?\",\"0\"\n",
    "\"7\",\"15\",\"16\",\"How can I be a good geologist?\",\"What should I do to be a great geologist?\",\"1\"\n",
    "\"11\",\"23\",\"24\",\"How do I read and find my YouTube comments?\",\"How can I see all my Youtube comments?\",\"1\"\n",
    "</pre>"
   ],
   "metadata": {
    "collapsed": false
   },
   "id": "bae6c706774b4dd3"
  },
  {
   "cell_type": "markdown",
   "source": [
    "**2.2 Mapping the real world problem to an ML problem**"
   ],
   "metadata": {
    "collapsed": false
   },
   "id": "8ff7466a194ae429"
  },
  {
   "cell_type": "markdown",
   "source": [
    "**2.2.1 Type of Machine Leaning Problem**"
   ],
   "metadata": {
    "collapsed": false
   },
   "id": "fdad3966f8c16312"
  },
  {
   "cell_type": "markdown",
   "source": [
    "It is a binary classification problem, for a given pair of questions we need to predict if they are duplicate or not."
   ],
   "metadata": {
    "collapsed": false
   },
   "id": "216f29c78d008ce3"
  },
  {
   "cell_type": "markdown",
   "source": [
    "**2.2.2 Performance Metric**"
   ],
   "metadata": {
    "collapsed": false
   },
   "id": "3bbc058beb210a5e"
  },
  {
   "cell_type": "markdown",
   "source": [
    "Source: https://www.kaggle.com/c/quora-question-pairs#evaluation\n",
    "\n",
    "Metric(s):\n",
    "\n",
    "log-loss : https://www.kaggle.com/wiki/LogarithmicLoss\n",
    "Binary Confusion Matrix"
   ],
   "metadata": {
    "collapsed": false
   },
   "id": "877ea5c8e1f5efca"
  },
  {
   "cell_type": "markdown",
   "source": [
    "**2.3 Train and Test Construction**"
   ],
   "metadata": {
    "collapsed": false
   },
   "id": "85c5c7fcfe707fdd"
  },
  {
   "cell_type": "markdown",
   "source": [
    "We build train and test by randomly splitting in the ratio of 70:30 or 80:20 whatever we choose as we have sufficient points to work with."
   ],
   "metadata": {
    "collapsed": false
   },
   "id": "5661c2fbf940684a"
  },
  {
   "cell_type": "markdown",
   "source": [
    "**3. Exploratory Data Analysis**"
   ],
   "metadata": {
    "collapsed": false
   },
   "id": "819535cb97243d57"
  },
  {
   "cell_type": "code",
   "execution_count": null,
   "id": "initial_id",
   "metadata": {
    "collapsed": true,
    "ExecuteTime": {
     "end_time": "2024-08-29T09:40:44.746159Z",
     "start_time": "2024-08-29T09:40:44.744715Z"
    }
   },
   "outputs": [],
   "source": []
  }
 ],
 "metadata": {
  "kernelspec": {
   "display_name": "Python 3",
   "language": "python",
   "name": "python3"
  },
  "language_info": {
   "codemirror_mode": {
    "name": "ipython",
    "version": 2
   },
   "file_extension": ".py",
   "mimetype": "text/x-python",
   "name": "python",
   "nbconvert_exporter": "python",
   "pygments_lexer": "ipython2",
   "version": "2.7.6"
  }
 },
 "nbformat": 4,
 "nbformat_minor": 5
}
