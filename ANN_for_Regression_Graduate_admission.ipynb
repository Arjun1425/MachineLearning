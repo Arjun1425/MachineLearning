{
 "cells": [
  {
   "cell_type": "markdown",
   "source": [
    "Using ANN for regression problem."
   ],
   "metadata": {
    "collapsed": false
   },
   "id": "c7a038ce19afe111"
  },
  {
   "cell_type": "code",
   "outputs": [],
   "source": [
    "import pandas as pd"
   ],
   "metadata": {
    "collapsed": true,
    "ExecuteTime": {
     "end_time": "2024-07-19T21:22:10.275489Z",
     "start_time": "2024-07-19T21:22:09.477039Z"
    }
   },
   "id": "initial_id",
   "execution_count": 1
  },
  {
   "cell_type": "code",
   "outputs": [
    {
     "data": {
      "text/plain": "   Serial No.  GRE Score  TOEFL Score  University Rating  SOP  LOR   CGPA  \\\n0           1        337          118                  4  4.5   4.5  9.65   \n1           2        324          107                  4  4.0   4.5  8.87   \n2           3        316          104                  3  3.0   3.5  8.00   \n3           4        322          110                  3  3.5   2.5  8.67   \n4           5        314          103                  2  2.0   3.0  8.21   \n\n   Research  Chance of Admit   \n0         1              0.92  \n1         1              0.76  \n2         1              0.72  \n3         1              0.80  \n4         0              0.65  ",
      "text/html": "<div>\n<style scoped>\n    .dataframe tbody tr th:only-of-type {\n        vertical-align: middle;\n    }\n\n    .dataframe tbody tr th {\n        vertical-align: top;\n    }\n\n    .dataframe thead th {\n        text-align: right;\n    }\n</style>\n<table border=\"1\" class=\"dataframe\">\n  <thead>\n    <tr style=\"text-align: right;\">\n      <th></th>\n      <th>Serial No.</th>\n      <th>GRE Score</th>\n      <th>TOEFL Score</th>\n      <th>University Rating</th>\n      <th>SOP</th>\n      <th>LOR</th>\n      <th>CGPA</th>\n      <th>Research</th>\n      <th>Chance of Admit</th>\n    </tr>\n  </thead>\n  <tbody>\n    <tr>\n      <th>0</th>\n      <td>1</td>\n      <td>337</td>\n      <td>118</td>\n      <td>4</td>\n      <td>4.5</td>\n      <td>4.5</td>\n      <td>9.65</td>\n      <td>1</td>\n      <td>0.92</td>\n    </tr>\n    <tr>\n      <th>1</th>\n      <td>2</td>\n      <td>324</td>\n      <td>107</td>\n      <td>4</td>\n      <td>4.0</td>\n      <td>4.5</td>\n      <td>8.87</td>\n      <td>1</td>\n      <td>0.76</td>\n    </tr>\n    <tr>\n      <th>2</th>\n      <td>3</td>\n      <td>316</td>\n      <td>104</td>\n      <td>3</td>\n      <td>3.0</td>\n      <td>3.5</td>\n      <td>8.00</td>\n      <td>1</td>\n      <td>0.72</td>\n    </tr>\n    <tr>\n      <th>3</th>\n      <td>4</td>\n      <td>322</td>\n      <td>110</td>\n      <td>3</td>\n      <td>3.5</td>\n      <td>2.5</td>\n      <td>8.67</td>\n      <td>1</td>\n      <td>0.80</td>\n    </tr>\n    <tr>\n      <th>4</th>\n      <td>5</td>\n      <td>314</td>\n      <td>103</td>\n      <td>2</td>\n      <td>2.0</td>\n      <td>3.0</td>\n      <td>8.21</td>\n      <td>0</td>\n      <td>0.65</td>\n    </tr>\n  </tbody>\n</table>\n</div>"
     },
     "execution_count": 2,
     "metadata": {},
     "output_type": "execute_result"
    }
   ],
   "source": [
    "df = pd.read_csv('../../Downloads/Data for ML/Admission_Predict_Ver1.1.csv')\n",
    "df.head()"
   ],
   "metadata": {
    "collapsed": false,
    "ExecuteTime": {
     "end_time": "2024-07-19T21:23:09.877959Z",
     "start_time": "2024-07-19T21:23:09.837652Z"
    }
   },
   "id": "8142720b910a9af1",
   "execution_count": 2
  },
  {
   "cell_type": "code",
   "outputs": [
    {
     "data": {
      "text/plain": "(500, 9)"
     },
     "execution_count": 4,
     "metadata": {},
     "output_type": "execute_result"
    }
   ],
   "source": [
    "df.shape"
   ],
   "metadata": {
    "collapsed": false,
    "ExecuteTime": {
     "end_time": "2024-07-19T21:23:32.441320Z",
     "start_time": "2024-07-19T21:23:32.436863Z"
    }
   },
   "id": "46712929124276ed",
   "execution_count": 4
  },
  {
   "cell_type": "code",
   "outputs": [
    {
     "name": "stdout",
     "output_type": "stream",
     "text": [
      "<class 'pandas.core.frame.DataFrame'>\n",
      "RangeIndex: 500 entries, 0 to 499\n",
      "Data columns (total 9 columns):\n",
      " #   Column             Non-Null Count  Dtype  \n",
      "---  ------             --------------  -----  \n",
      " 0   Serial No.         500 non-null    int64  \n",
      " 1   GRE Score          500 non-null    int64  \n",
      " 2   TOEFL Score        500 non-null    int64  \n",
      " 3   University Rating  500 non-null    int64  \n",
      " 4   SOP                500 non-null    float64\n",
      " 5   LOR                500 non-null    float64\n",
      " 6   CGPA               500 non-null    float64\n",
      " 7   Research           500 non-null    int64  \n",
      " 8   Chance of Admit    500 non-null    float64\n",
      "dtypes: float64(4), int64(5)\n",
      "memory usage: 35.3 KB\n"
     ]
    }
   ],
   "source": [
    "df.info() #Checking for missing values"
   ],
   "metadata": {
    "collapsed": false,
    "ExecuteTime": {
     "end_time": "2024-07-19T21:23:58.765153Z",
     "start_time": "2024-07-19T21:23:58.720009Z"
    }
   },
   "id": "aa976ade346eae96",
   "execution_count": 5
  },
  {
   "cell_type": "code",
   "outputs": [
    {
     "data": {
      "text/plain": "0"
     },
     "execution_count": 8,
     "metadata": {},
     "output_type": "execute_result"
    }
   ],
   "source": [
    "df.duplicated().sum()           #Checking for duplication"
   ],
   "metadata": {
    "collapsed": false,
    "ExecuteTime": {
     "end_time": "2024-07-19T21:24:57.833658Z",
     "start_time": "2024-07-19T21:24:57.821354Z"
    }
   },
   "id": "9ce19ad1ed719d14",
   "execution_count": 8
  },
  {
   "cell_type": "code",
   "outputs": [],
   "source": [
    "df.drop(columns=['Serial No.'], inplace=True)"
   ],
   "metadata": {
    "collapsed": false,
    "ExecuteTime": {
     "end_time": "2024-07-19T21:37:27.390893Z",
     "start_time": "2024-07-19T21:37:27.368543Z"
    }
   },
   "id": "4cf3bd64738af200",
   "execution_count": 9
  },
  {
   "cell_type": "code",
   "outputs": [],
   "source": [
    "X = df.iloc[:, 0: -1]\n",
    "y = df.iloc[:, -1]"
   ],
   "metadata": {
    "collapsed": false,
    "ExecuteTime": {
     "end_time": "2024-07-19T21:39:03.747662Z",
     "start_time": "2024-07-19T21:39:03.738061Z"
    }
   },
   "id": "d82417d25e65ca9f",
   "execution_count": 10
  },
  {
   "cell_type": "code",
   "outputs": [],
   "source": [
    "from sklearn.model_selection import train_test_split\n",
    "\n",
    "X_train, X_test, y_train, y_test = train_test_split(X, y, test_size = 0.2, random_state = 10)"
   ],
   "metadata": {
    "collapsed": false,
    "ExecuteTime": {
     "end_time": "2024-07-19T21:42:55.978792Z",
     "start_time": "2024-07-19T21:42:54.549264Z"
    }
   },
   "id": "590c6924a3d40f86",
   "execution_count": 11
  },
  {
   "cell_type": "markdown",
   "source": [
    "Now we want to do scaling of the features. Here we are using min_max scaling instead of standard scaling. "
   ],
   "metadata": {
    "collapsed": false
   },
   "id": "743628992dc54310"
  },
  {
   "cell_type": "code",
   "outputs": [
    {
     "name": "stdout",
     "output_type": "stream",
     "text": [
      "[[0.62       0.59259259 0.5        ... 0.625      0.64102564 1.        ]\n",
      " [0.96       0.88888889 0.75       ... 0.875      0.8525641  1.        ]\n",
      " [0.56       0.51851852 0.5        ... 0.625      0.47115385 1.        ]\n",
      " ...\n",
      " [0.54       0.48148148 0.5        ... 0.5        0.34935897 1.        ]\n",
      " [0.2        0.25925926 0.5        ... 0.5        0.59615385 1.        ]\n",
      " [0.46       0.33333333 0.5        ... 0.375      0.6025641  0.        ]]\n"
     ]
    }
   ],
   "source": [
    "from sklearn.preprocessing import MinMaxScaler\n",
    "\n",
    "mm = MinMaxScaler()\n",
    "X_train_mm = mm.fit_transform(X_train)\n",
    "X_test_mm = mm.transform(X_test) \n",
    "print(X_train_mm)"
   ],
   "metadata": {
    "collapsed": false,
    "ExecuteTime": {
     "end_time": "2024-07-19T21:46:05.447711Z",
     "start_time": "2024-07-19T21:46:05.429954Z"
    }
   },
   "id": "d703f1bb94ab5842",
   "execution_count": 12
  },
  {
   "cell_type": "markdown",
   "source": [
    "NN architecture:\n",
    "--> One hidden layer with 7 nodes. \n",
    "--> Output layer with 1 node."
   ],
   "metadata": {
    "collapsed": false
   },
   "id": "fe5862c973fcf048"
  },
  {
   "cell_type": "code",
   "outputs": [
    {
     "name": "stderr",
     "output_type": "stream",
     "text": [
      "/Users/fnuarjun/PycharmProjects/ML/.venv/lib/python3.9/site-packages/urllib3/__init__.py:35: NotOpenSSLWarning: urllib3 v2 only supports OpenSSL 1.1.1+, currently the 'ssl' module is compiled with 'LibreSSL 2.8.3'. See: https://github.com/urllib3/urllib3/issues/3020\n",
      "  warnings.warn(\n"
     ]
    }
   ],
   "source": [
    "import tensorflow \n",
    "from tensorflow import keras\n",
    "from keras.models import Sequential\n",
    "from keras.layers import Dense"
   ],
   "metadata": {
    "collapsed": false,
    "ExecuteTime": {
     "end_time": "2024-07-19T21:48:41.639620Z",
     "start_time": "2024-07-19T21:48:37.444686Z"
    }
   },
   "id": "6baf0f7e72df97df",
   "execution_count": 13
  },
  {
   "cell_type": "code",
   "outputs": [],
   "source": [
    "model = Sequential()\n",
    "model.add(Dense(7, activation='relu', input_dim=7))\n",
    "model.add(Dense(7, activation='relu'))\n",
    "model.add(Dense(1, activation='linear'))"
   ],
   "metadata": {
    "collapsed": false,
    "ExecuteTime": {
     "end_time": "2024-07-19T22:01:29.282509Z",
     "start_time": "2024-07-19T22:01:29.221038Z"
    }
   },
   "id": "63eb6120d326c29d",
   "execution_count": 37
  },
  {
   "cell_type": "code",
   "outputs": [
    {
     "name": "stdout",
     "output_type": "stream",
     "text": [
      "Model: \"sequential_6\"\n",
      "_________________________________________________________________\n",
      " Layer (type)                Output Shape              Param #   \n",
      "=================================================================\n",
      " dense_16 (Dense)            (None, 7)                 56        \n",
      "                                                                 \n",
      " dense_17 (Dense)            (None, 7)                 56        \n",
      "                                                                 \n",
      " dense_18 (Dense)            (None, 1)                 8         \n",
      "                                                                 \n",
      "=================================================================\n",
      "Total params: 120 (480.00 Byte)\n",
      "Trainable params: 120 (480.00 Byte)\n",
      "Non-trainable params: 0 (0.00 Byte)\n",
      "_________________________________________________________________\n"
     ]
    }
   ],
   "source": [
    "model.summary()"
   ],
   "metadata": {
    "collapsed": false,
    "ExecuteTime": {
     "end_time": "2024-07-19T22:01:30.941262Z",
     "start_time": "2024-07-19T22:01:30.928430Z"
    }
   },
   "id": "3c62a1e59d3a799a",
   "execution_count": 38
  },
  {
   "cell_type": "code",
   "outputs": [
    {
     "name": "stdout",
     "output_type": "stream",
     "text": [
      "Epoch 1/40\n",
      "10/10 [==============================] - 0s 28ms/step - loss: 0.0067 - val_loss: 0.0061\n",
      "Epoch 2/40\n",
      "10/10 [==============================] - 0s 2ms/step - loss: 0.0064 - val_loss: 0.0061\n",
      "Epoch 3/40\n",
      "10/10 [==============================] - 0s 2ms/step - loss: 0.0060 - val_loss: 0.0055\n",
      "Epoch 4/40\n",
      "10/10 [==============================] - 0s 2ms/step - loss: 0.0056 - val_loss: 0.0055\n",
      "Epoch 5/40\n",
      "10/10 [==============================] - 0s 2ms/step - loss: 0.0055 - val_loss: 0.0050\n",
      "Epoch 6/40\n",
      "10/10 [==============================] - 0s 2ms/step - loss: 0.0054 - val_loss: 0.0050\n",
      "Epoch 7/40\n",
      "10/10 [==============================] - 0s 2ms/step - loss: 0.0052 - val_loss: 0.0047\n",
      "Epoch 8/40\n",
      "10/10 [==============================] - 0s 2ms/step - loss: 0.0050 - val_loss: 0.0047\n",
      "Epoch 9/40\n",
      "10/10 [==============================] - 0s 2ms/step - loss: 0.0047 - val_loss: 0.0045\n",
      "Epoch 10/40\n",
      "10/10 [==============================] - 0s 2ms/step - loss: 0.0046 - val_loss: 0.0044\n",
      "Epoch 11/40\n",
      "10/10 [==============================] - 0s 2ms/step - loss: 0.0045 - val_loss: 0.0043\n",
      "Epoch 12/40\n",
      "10/10 [==============================] - 0s 2ms/step - loss: 0.0045 - val_loss: 0.0042\n",
      "Epoch 13/40\n",
      "10/10 [==============================] - 0s 2ms/step - loss: 0.0044 - val_loss: 0.0042\n",
      "Epoch 14/40\n",
      "10/10 [==============================] - 0s 2ms/step - loss: 0.0043 - val_loss: 0.0042\n",
      "Epoch 15/40\n",
      "10/10 [==============================] - 0s 2ms/step - loss: 0.0043 - val_loss: 0.0040\n",
      "Epoch 16/40\n",
      "10/10 [==============================] - 0s 2ms/step - loss: 0.0041 - val_loss: 0.0040\n",
      "Epoch 17/40\n",
      "10/10 [==============================] - 0s 2ms/step - loss: 0.0041 - val_loss: 0.0040\n",
      "Epoch 18/40\n",
      "10/10 [==============================] - 0s 2ms/step - loss: 0.0041 - val_loss: 0.0039\n",
      "Epoch 19/40\n",
      "10/10 [==============================] - 0s 2ms/step - loss: 0.0040 - val_loss: 0.0039\n",
      "Epoch 20/40\n",
      "10/10 [==============================] - 0s 2ms/step - loss: 0.0040 - val_loss: 0.0038\n",
      "Epoch 21/40\n",
      "10/10 [==============================] - 0s 2ms/step - loss: 0.0040 - val_loss: 0.0039\n",
      "Epoch 22/40\n",
      "10/10 [==============================] - 0s 2ms/step - loss: 0.0040 - val_loss: 0.0038\n",
      "Epoch 23/40\n",
      "10/10 [==============================] - 0s 2ms/step - loss: 0.0039 - val_loss: 0.0038\n",
      "Epoch 24/40\n",
      "10/10 [==============================] - 0s 2ms/step - loss: 0.0038 - val_loss: 0.0038\n",
      "Epoch 25/40\n",
      "10/10 [==============================] - 0s 2ms/step - loss: 0.0038 - val_loss: 0.0038\n",
      "Epoch 26/40\n",
      "10/10 [==============================] - 0s 2ms/step - loss: 0.0038 - val_loss: 0.0038\n",
      "Epoch 27/40\n",
      "10/10 [==============================] - 0s 2ms/step - loss: 0.0038 - val_loss: 0.0038\n",
      "Epoch 28/40\n",
      "10/10 [==============================] - 0s 2ms/step - loss: 0.0037 - val_loss: 0.0037\n",
      "Epoch 29/40\n",
      "10/10 [==============================] - 0s 2ms/step - loss: 0.0037 - val_loss: 0.0037\n",
      "Epoch 30/40\n",
      "10/10 [==============================] - 0s 2ms/step - loss: 0.0037 - val_loss: 0.0037\n",
      "Epoch 31/40\n",
      "10/10 [==============================] - 0s 2ms/step - loss: 0.0037 - val_loss: 0.0037\n",
      "Epoch 32/40\n",
      "10/10 [==============================] - 0s 2ms/step - loss: 0.0036 - val_loss: 0.0037\n",
      "Epoch 33/40\n",
      "10/10 [==============================] - 0s 2ms/step - loss: 0.0036 - val_loss: 0.0037\n",
      "Epoch 34/40\n",
      "10/10 [==============================] - 0s 2ms/step - loss: 0.0036 - val_loss: 0.0037\n",
      "Epoch 35/40\n",
      "10/10 [==============================] - 0s 2ms/step - loss: 0.0036 - val_loss: 0.0038\n",
      "Epoch 36/40\n",
      "10/10 [==============================] - 0s 2ms/step - loss: 0.0036 - val_loss: 0.0038\n",
      "Epoch 37/40\n",
      "10/10 [==============================] - 0s 2ms/step - loss: 0.0036 - val_loss: 0.0037\n",
      "Epoch 38/40\n",
      "10/10 [==============================] - 0s 2ms/step - loss: 0.0035 - val_loss: 0.0037\n",
      "Epoch 39/40\n",
      "10/10 [==============================] - 0s 2ms/step - loss: 0.0035 - val_loss: 0.0037\n",
      "Epoch 40/40\n",
      "10/10 [==============================] - 0s 2ms/step - loss: 0.0036 - val_loss: 0.0037\n"
     ]
    }
   ],
   "source": [
    "model.compile(loss='mean_squared_error', optimizer='adam')\n",
    "history = model.fit(X_train_mm, y_train, epochs=40, validation_split=0.2)"
   ],
   "metadata": {
    "collapsed": false,
    "ExecuteTime": {
     "end_time": "2024-07-19T22:01:52.913371Z",
     "start_time": "2024-07-19T22:01:51.749988Z"
    }
   },
   "id": "776114a8e086948d",
   "execution_count": 41
  },
  {
   "cell_type": "code",
   "outputs": [
    {
     "name": "stdout",
     "output_type": "stream",
     "text": [
      "4/4 [==============================] - 0s 693us/step\n",
      "r2_score: 0.7683504554522853\n"
     ]
    }
   ],
   "source": [
    "y_pred = model.predict(X_test_mm)\n",
    "\n",
    "from sklearn.metrics import r2_score\n",
    "r2 = r2_score(y_test, y_pred)\n",
    "print(f'r2_score: {r2}')"
   ],
   "metadata": {
    "collapsed": false,
    "ExecuteTime": {
     "end_time": "2024-07-19T22:01:54.342010Z",
     "start_time": "2024-07-19T22:01:54.266003Z"
    }
   },
   "id": "d18c7072733155f4",
   "execution_count": 42
  },
  {
   "cell_type": "code",
   "outputs": [
    {
     "data": {
      "text/plain": "<Figure size 640x480 with 1 Axes>",
      "image/png": "[encoded data removed]"
     },
     "metadata": {},
     "output_type": "display_data"
    }
   ],
   "source": [
    "import matplotlib.pyplot as plt\n",
    "\n",
    "plt.plot(history.history['loss'], label = 'training loss')\n",
    "plt.plot(history.history['val_loss'], label = 'validation loss')\n",
    "plt.xlabel(\"Epochs\")\n",
    "plt.ylabel(\"loss\")\n",
    "plt.legend()\n",
    "plt.show()"
   ],
   "metadata": {
    "collapsed": false,
    "ExecuteTime": {
     "end_time": "2024-07-19T22:04:09.612297Z",
     "start_time": "2024-07-19T22:04:09.490527Z"
    }
   },
   "id": "43609ec65fd7e97b",
   "execution_count": 45
  }
 ],
 "metadata": {
  "kernelspec": {
   "display_name": "Python 3",
   "language": "python",
   "name": "python3"
  },
  "language_info": {
   "codemirror_mode": {
    "name": "ipython",
    "version": 2
   },
   "file_extension": ".py",
   "mimetype": "text/x-python",
   "name": "python",
   "nbconvert_exporter": "python",
   "pygments_lexer": "ipython2",
   "version": "2.7.6"
  }
 },
 "nbformat": 4,
 "nbformat_minor": 5
}
