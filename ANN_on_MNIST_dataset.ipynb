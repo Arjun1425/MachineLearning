{
 "cells": [
  {
   "cell_type": "markdown",
   "source": [
    "Here we have more than two classes: 10 classes.\n",
    "Let's import the libraries"
   ],
   "metadata": {
    "collapsed": false
   },
   "id": "52637ea4d5ba6792"
  },
  {
   "cell_type": "code",
   "outputs": [
    {
     "name": "stderr",
     "output_type": "stream",
     "text": [
      "/Users/fnuarjun/PycharmProjects/ML/.venv/lib/python3.9/site-packages/urllib3/__init__.py:35: NotOpenSSLWarning: urllib3 v2 only supports OpenSSL 1.1.1+, currently the 'ssl' module is compiled with 'LibreSSL 2.8.3'. See: https://github.com/urllib3/urllib3/issues/3020\n",
      "  warnings.warn(\n"
     ]
    }
   ],
   "source": [
    "import tensorflow as tf\n",
    "from tensorflow import keras\n",
    "from tensorflow.keras import Sequential\n",
    "from tensorflow.keras.layers import Dense, Flatten"
   ],
   "metadata": {
    "collapsed": true,
    "ExecuteTime": {
     "end_time": "2024-07-19T19:52:15.531113Z",
     "start_time": "2024-07-19T19:52:10.578786Z"
    }
   },
   "id": "initial_id",
   "execution_count": 1
  },
  {
   "cell_type": "markdown",
   "source": [
    "Import the Mnist dataset from the keras library. "
   ],
   "metadata": {
    "collapsed": false
   },
   "id": "99bea6031abc473a"
  },
  {
   "cell_type": "code",
   "outputs": [
    {
     "name": "stdout",
     "output_type": "stream",
     "text": [
      "Downloading data from https://storage.googleapis.com/tensorflow/tf-keras-datasets/mnist.npz\n",
      "11490434/11490434 [==============================] - 0s 0us/step\n"
     ]
    }
   ],
   "source": [
    "(X_train, y_train), (X_test, y_test) = tf.keras.datasets.mnist.load_data()"
   ],
   "metadata": {
    "collapsed": false,
    "ExecuteTime": {
     "end_time": "2024-07-19T19:53:46.756362Z",
     "start_time": "2024-07-19T19:53:46.132070Z"
    }
   },
   "id": "4fee56134ca9b81f",
   "execution_count": 2
  },
  {
   "cell_type": "code",
   "outputs": [
    {
     "name": "stdout",
     "output_type": "stream",
     "text": [
      "(60000, 28, 28)\n",
      "(10000, 28, 28)\n"
     ]
    }
   ],
   "source": [
    "print(X_train.shape)\n",
    "print(X_test.shape)     # 3D array having 60k frames of 28*28 arrays."
   ],
   "metadata": {
    "collapsed": false,
    "ExecuteTime": {
     "end_time": "2024-07-19T19:54:11.879877Z",
     "start_time": "2024-07-19T19:54:11.874895Z"
    }
   },
   "id": "180f190d0aa61301",
   "execution_count": 3
  },
  {
   "cell_type": "markdown",
   "source": [
    "Now we want to bring every feature in the similar range for fast convergence of the weights. "
   ],
   "metadata": {
    "collapsed": false
   },
   "id": "eea9b0fc9891753d"
  },
  {
   "cell_type": "code",
   "outputs": [
    {
     "name": "stdout",
     "output_type": "stream",
     "text": [
      "[[  0   0   0   0   0   0   0   0   0   0   0   0   0   0   0   0   0   0\n",
      "    0   0   0   0   0   0   0   0   0   0]\n",
      " [  0   0   0   0   0   0   0   0   0   0   0   0   0   0   0   0   0   0\n",
      "    0   0   0   0   0   0   0   0   0   0]\n",
      " [  0   0   0   0   0   0   0   0   0   0   0   0   0   0   0   0   0   0\n",
      "    0   0   0   0   0   0   0   0   0   0]\n",
      " [  0   0   0   0   0   0   0   0   0   0   0   0   0   0   0   0   0   0\n",
      "    0   0   0   0   0   0   0   0   0   0]\n",
      " [  0   0   0   0   0   0   0   0   0   0   0   0   0   0   0   0   0   0\n",
      "    0   0   0   0   0   0   0   0   0   0]\n",
      " [  0   0   0   0   0   0   0   0   0   0   0   0   3  18  18  18 126 136\n",
      "  175  26 166 255 247 127   0   0   0   0]\n",
      " [  0   0   0   0   0   0   0   0  30  36  94 154 170 253 253 253 253 253\n",
      "  225 172 253 242 195  64   0   0   0   0]\n",
      " [  0   0   0   0   0   0   0  49 238 253 253 253 253 253 253 253 253 251\n",
      "   93  82  82  56  39   0   0   0   0   0]\n",
      " [  0   0   0   0   0   0   0  18 219 253 253 253 253 253 198 182 247 241\n",
      "    0   0   0   0   0   0   0   0   0   0]\n",
      " [  0   0   0   0   0   0   0   0  80 156 107 253 253 205  11   0  43 154\n",
      "    0   0   0   0   0   0   0   0   0   0]\n",
      " [  0   0   0   0   0   0   0   0   0  14   1 154 253  90   0   0   0   0\n",
      "    0   0   0   0   0   0   0   0   0   0]\n",
      " [  0   0   0   0   0   0   0   0   0   0   0 139 253 190   2   0   0   0\n",
      "    0   0   0   0   0   0   0   0   0   0]\n",
      " [  0   0   0   0   0   0   0   0   0   0   0  11 190 253  70   0   0   0\n",
      "    0   0   0   0   0   0   0   0   0   0]\n",
      " [  0   0   0   0   0   0   0   0   0   0   0   0  35 241 225 160 108   1\n",
      "    0   0   0   0   0   0   0   0   0   0]\n",
      " [  0   0   0   0   0   0   0   0   0   0   0   0   0  81 240 253 253 119\n",
      "   25   0   0   0   0   0   0   0   0   0]\n",
      " [  0   0   0   0   0   0   0   0   0   0   0   0   0   0  45 186 253 253\n",
      "  150  27   0   0   0   0   0   0   0   0]\n",
      " [  0   0   0   0   0   0   0   0   0   0   0   0   0   0   0  16  93 252\n",
      "  253 187   0   0   0   0   0   0   0   0]\n",
      " [  0   0   0   0   0   0   0   0   0   0   0   0   0   0   0   0   0 249\n",
      "  253 249  64   0   0   0   0   0   0   0]\n",
      " [  0   0   0   0   0   0   0   0   0   0   0   0   0   0  46 130 183 253\n",
      "  253 207   2   0   0   0   0   0   0   0]\n",
      " [  0   0   0   0   0   0   0   0   0   0   0   0  39 148 229 253 253 253\n",
      "  250 182   0   0   0   0   0   0   0   0]\n",
      " [  0   0   0   0   0   0   0   0   0   0  24 114 221 253 253 253 253 201\n",
      "   78   0   0   0   0   0   0   0   0   0]\n",
      " [  0   0   0   0   0   0   0   0  23  66 213 253 253 253 253 198  81   2\n",
      "    0   0   0   0   0   0   0   0   0   0]\n",
      " [  0   0   0   0   0   0  18 171 219 253 253 253 253 195  80   9   0   0\n",
      "    0   0   0   0   0   0   0   0   0   0]\n",
      " [  0   0   0   0  55 172 226 253 253 253 253 244 133  11   0   0   0   0\n",
      "    0   0   0   0   0   0   0   0   0   0]\n",
      " [  0   0   0   0 136 253 253 253 212 135 132  16   0   0   0   0   0   0\n",
      "    0   0   0   0   0   0   0   0   0   0]\n",
      " [  0   0   0   0   0   0   0   0   0   0   0   0   0   0   0   0   0   0\n",
      "    0   0   0   0   0   0   0   0   0   0]\n",
      " [  0   0   0   0   0   0   0   0   0   0   0   0   0   0   0   0   0   0\n",
      "    0   0   0   0   0   0   0   0   0   0]\n",
      " [  0   0   0   0   0   0   0   0   0   0   0   0   0   0   0   0   0   0\n",
      "    0   0   0   0   0   0   0   0   0   0]]\n"
     ]
    }
   ],
   "source": [
    "print(X_train[0])\n",
    "x_train = X_train/255            # Maximum value is 255 so now the range will be 0 to 1.\n",
    "x_test = X_test/255"
   ],
   "metadata": {
    "collapsed": false,
    "ExecuteTime": {
     "end_time": "2024-07-19T20:07:36.120400Z",
     "start_time": "2024-07-19T20:07:35.978025Z"
    }
   },
   "id": "98b6e5500e4b5bc2",
   "execution_count": 5
  },
  {
   "cell_type": "markdown",
   "source": [
    "The NN architecture:\n",
    "-> One hidden layer having 128 dimensions and take 784 input_dim. But we have data in the format of 28*28. So now we have to flatten it. --> In Keras there is a flatten layer which converts higher dimensional array into 1D. \n"
   ],
   "metadata": {
    "collapsed": false
   },
   "id": "6c6275528525de3e"
  },
  {
   "cell_type": "code",
   "outputs": [],
   "source": [
    "model = Sequential()\n",
    "\n",
    "model.add(Flatten(input_shape=(28,28)))\n",
    "model.add(Dense(128, activation='relu'))\n",
    "model.add(Dense(10, activation='softmax'))       # If you have more than two class you use softmax activation function. "
   ],
   "metadata": {
    "collapsed": false,
    "ExecuteTime": {
     "end_time": "2024-07-19T20:16:06.303976Z",
     "start_time": "2024-07-19T20:16:06.193369Z"
    }
   },
   "id": "e1689c459148ae23",
   "execution_count": 6
  },
  {
   "cell_type": "code",
   "outputs": [
    {
     "name": "stdout",
     "output_type": "stream",
     "text": [
      "Model: \"sequential\"\n",
      "_________________________________________________________________\n",
      " Layer (type)                Output Shape              Param #   \n",
      "=================================================================\n",
      " flatten (Flatten)           (None, 784)               0         \n",
      "                                                                 \n",
      " dense (Dense)               (None, 128)               100480    \n",
      "                                                                 \n",
      " dense_1 (Dense)             (None, 10)                1290      \n",
      "                                                                 \n",
      "=================================================================\n",
      "Total params: 101770 (397.54 KB)\n",
      "Trainable params: 101770 (397.54 KB)\n",
      "Non-trainable params: 0 (0.00 Byte)\n",
      "_________________________________________________________________\n"
     ]
    }
   ],
   "source": [
    "model.summary()"
   ],
   "metadata": {
    "collapsed": false,
    "ExecuteTime": {
     "end_time": "2024-07-19T20:16:18.676184Z",
     "start_time": "2024-07-19T20:16:18.652374Z"
    }
   },
   "id": "862392f82c5496b",
   "execution_count": 7
  },
  {
   "cell_type": "markdown",
   "source": [
    "There is no trainable parameters at the flatten layer because there is no training happening. We are simply converting the 2D input data into 1D. "
   ],
   "metadata": {
    "collapsed": false
   },
   "id": "9ce6a6ca25dde493"
  },
  {
   "cell_type": "code",
   "outputs": [
    {
     "name": "stdout",
     "output_type": "stream",
     "text": [
      "Epoch 1/20\n",
      "1500/1500 [==============================] - 1s 746us/step - loss: 0.1684 - accuracy: 0.9677 - val_loss: 0.4537 - val_accuracy: 0.9494\n",
      "Epoch 2/20\n",
      "1500/1500 [==============================] - 1s 696us/step - loss: 0.1639 - accuracy: 0.9670 - val_loss: 0.4309 - val_accuracy: 0.9510\n",
      "Epoch 3/20\n",
      "1500/1500 [==============================] - 1s 691us/step - loss: 0.1435 - accuracy: 0.9687 - val_loss: 0.4159 - val_accuracy: 0.9522\n",
      "Epoch 4/20\n",
      "1500/1500 [==============================] - 1s 691us/step - loss: 0.1485 - accuracy: 0.9678 - val_loss: 0.4271 - val_accuracy: 0.9507\n",
      "Epoch 5/20\n",
      "1500/1500 [==============================] - 1s 703us/step - loss: 0.1469 - accuracy: 0.9682 - val_loss: 0.4234 - val_accuracy: 0.9529\n",
      "Epoch 6/20\n",
      "1500/1500 [==============================] - 1s 710us/step - loss: 0.1377 - accuracy: 0.9703 - val_loss: 0.4472 - val_accuracy: 0.9542\n",
      "Epoch 7/20\n",
      "1500/1500 [==============================] - 1s 710us/step - loss: 0.1325 - accuracy: 0.9709 - val_loss: 0.4119 - val_accuracy: 0.9542\n",
      "Epoch 8/20\n",
      "1500/1500 [==============================] - 1s 693us/step - loss: 0.1591 - accuracy: 0.9691 - val_loss: 0.4996 - val_accuracy: 0.9507\n",
      "Epoch 9/20\n",
      "1500/1500 [==============================] - 1s 749us/step - loss: 0.1384 - accuracy: 0.9710 - val_loss: 0.4930 - val_accuracy: 0.9498\n",
      "Epoch 10/20\n",
      "1500/1500 [==============================] - 1s 727us/step - loss: 0.1337 - accuracy: 0.9707 - val_loss: 0.4763 - val_accuracy: 0.9540\n",
      "Epoch 11/20\n",
      "1500/1500 [==============================] - 1s 685us/step - loss: 0.1270 - accuracy: 0.9717 - val_loss: 0.4871 - val_accuracy: 0.9548\n",
      "Epoch 12/20\n",
      "1500/1500 [==============================] - 1s 683us/step - loss: 0.1253 - accuracy: 0.9732 - val_loss: 0.6011 - val_accuracy: 0.9505\n",
      "Epoch 13/20\n",
      "1500/1500 [==============================] - 1s 690us/step - loss: 0.1267 - accuracy: 0.9721 - val_loss: 0.5305 - val_accuracy: 0.9483\n",
      "Epoch 14/20\n",
      "1500/1500 [==============================] - 1s 691us/step - loss: 0.1405 - accuracy: 0.9706 - val_loss: 0.5088 - val_accuracy: 0.9537\n",
      "Epoch 15/20\n",
      "1500/1500 [==============================] - 1s 691us/step - loss: 0.1320 - accuracy: 0.9726 - val_loss: 0.5198 - val_accuracy: 0.9569\n",
      "Epoch 16/20\n",
      "1500/1500 [==============================] - 1s 697us/step - loss: 0.1164 - accuracy: 0.9743 - val_loss: 0.5331 - val_accuracy: 0.9548\n",
      "Epoch 17/20\n",
      "1500/1500 [==============================] - 1s 687us/step - loss: 0.1309 - accuracy: 0.9736 - val_loss: 0.6596 - val_accuracy: 0.9564\n",
      "Epoch 18/20\n",
      "1500/1500 [==============================] - 1s 694us/step - loss: 0.1516 - accuracy: 0.9732 - val_loss: 0.5708 - val_accuracy: 0.9538\n",
      "Epoch 19/20\n",
      "1500/1500 [==============================] - 1s 690us/step - loss: 0.1208 - accuracy: 0.9757 - val_loss: 0.6346 - val_accuracy: 0.9534\n",
      "Epoch 20/20\n",
      "1500/1500 [==============================] - 1s 723us/step - loss: 0.1217 - accuracy: 0.9755 - val_loss: 0.5273 - val_accuracy: 0.9568\n"
     ]
    }
   ],
   "source": [
    "model.compile(loss='sparse_categorical_crossentropy', optimizer='adam', metrics=['accuracy'])\n",
    "history = model.fit(X_train, y_train, epochs=20, validation_split=0.2)"
   ],
   "metadata": {
    "collapsed": false,
    "ExecuteTime": {
     "end_time": "2024-07-19T20:29:55.183093Z",
     "start_time": "2024-07-19T20:29:33.694075Z"
    }
   },
   "id": "c20ff1229a022715",
   "execution_count": 11
  },
  {
   "cell_type": "code",
   "outputs": [
    {
     "name": "stdout",
     "output_type": "stream",
     "text": [
      "313/313 [==============================] - 0s 413us/step\n",
      "(10000, 10)\n"
     ]
    }
   ],
   "source": [
    "y_prob = model.predict(X_test)\n",
    "print(y_prob.shape)"
   ],
   "metadata": {
    "collapsed": false,
    "ExecuteTime": {
     "end_time": "2024-07-19T20:36:33.502218Z",
     "start_time": "2024-07-19T20:36:33.268299Z"
    }
   },
   "id": "376575837848bee0",
   "execution_count": 15
  },
  {
   "cell_type": "markdown",
   "source": [
    "It is giving me the probability of every class. Now we want to convert it into real class. "
   ],
   "metadata": {
    "collapsed": false
   },
   "id": "c6864e124f00598e"
  },
  {
   "cell_type": "code",
   "outputs": [
    {
     "name": "stdout",
     "output_type": "stream",
     "text": [
      "[7 2 1 ... 4 5 6]\n"
     ]
    }
   ],
   "source": [
    "y_pred = y_prob.argmax(axis=1)\n",
    "print(y_pred)"
   ],
   "metadata": {
    "collapsed": false,
    "ExecuteTime": {
     "end_time": "2024-07-19T20:36:51.573362Z",
     "start_time": "2024-07-19T20:36:51.567350Z"
    }
   },
   "id": "fcbe8e96d2d21ee5",
   "execution_count": 16
  },
  {
   "cell_type": "code",
   "outputs": [
    {
     "name": "stdout",
     "output_type": "stream",
     "text": [
      "Accuracy = 95.64%\n"
     ]
    }
   ],
   "source": [
    "from sklearn.metrics import accuracy_score\n",
    "\n",
    "accuracy = accuracy_score(y_test, y_pred)*100\n",
    "print(f'Accuracy = {accuracy:.2f}%')"
   ],
   "metadata": {
    "collapsed": false,
    "ExecuteTime": {
     "end_time": "2024-07-19T20:38:20.455900Z",
     "start_time": "2024-07-19T20:38:20.416422Z"
    }
   },
   "id": "d22b7ce911b38662",
   "execution_count": 19
  },
  {
   "cell_type": "code",
   "outputs": [
    {
     "data": {
      "text/plain": "<Figure size 640x480 with 1 Axes>",
      "image/png": "[encoded data removed]"
     },
     "metadata": {},
     "output_type": "display_data"
    }
   ],
   "source": [
    "import matplotlib.pyplot as plt\n",
    "import numpy as np\n",
    "plt.plot(history.history['accuracy'], label='Training accuracy')\n",
    "plt.plot(history.history['val_accuracy'], label='Validation accuracy')\n",
    "plt.title('model accuracy')\n",
    "plt.ylabel('accuracy')\n",
    "plt.xlabel('Epochs')\n",
    "plt.legend()\n",
    "plt.show()"
   ],
   "metadata": {
    "collapsed": false,
    "ExecuteTime": {
     "end_time": "2024-07-19T20:45:20.152038Z",
     "start_time": "2024-07-19T20:45:20.034870Z"
    }
   },
   "id": "308327f337fcaa97",
   "execution_count": 25
  }
 ],
 "metadata": {
  "kernelspec": {
   "display_name": "Python 3",
   "language": "python",
   "name": "python3"
  },
  "language_info": {
   "codemirror_mode": {
    "name": "ipython",
    "version": 2
   },
   "file_extension": ".py",
   "mimetype": "text/x-python",
   "name": "python",
   "nbconvert_exporter": "python",
   "pygments_lexer": "ipython2",
   "version": "2.7.6"
  }
 },
 "nbformat": 4,
 "nbformat_minor": 5
}
