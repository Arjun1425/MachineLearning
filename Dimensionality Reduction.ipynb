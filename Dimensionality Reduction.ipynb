{
 "cells": [
  {
   "cell_type": "markdown",
   "source": [
    "In this I am going to use the column transformer from scikit learn. For column wise normalization of the Iris dataset. \n",
    "What we want to do here:\n",
    "--> Find mean of the column. \n",
    "--> Doing normalization and standardization on whole dataset at once. --> Using numpy or scikit learn. \n",
    "--> Find the similarity matrix (co-variance) --> Using numpy or scikit learn. "
   ],
   "metadata": {
    "collapsed": false
   },
   "id": "e3287e081f0337a0"
  },
  {
   "cell_type": "code",
   "outputs": [],
   "source": [
    "import pandas as pd\n",
    "import numpy as np\n",
    "from sklearn.preprocessing import StandardScaler"
   ],
   "metadata": {
    "collapsed": true,
    "ExecuteTime": {
     "end_time": "2024-05-15T10:05:34.347143Z",
     "start_time": "2024-05-15T10:05:34.342347Z"
    }
   },
   "id": "initial_id",
   "execution_count": 32
  },
  {
   "cell_type": "code",
   "outputs": [
    {
     "name": "stdout",
     "output_type": "stream",
     "text": [
      "   sepal.length  sepal.width  petal.length  petal.width variety\n",
      "0           5.1          3.5           1.4          0.2  Setosa\n",
      "1           4.9          3.0           1.4          0.2  Setosa\n",
      "2           4.7          3.2           1.3          0.2  Setosa\n"
     ]
    }
   ],
   "source": [
    "iris: pd.DataFrame = pd.read_csv('../../Downloads/Data for ML/iris.csv')\n",
    "print(iris.head(3))"
   ],
   "metadata": {
    "collapsed": false,
    "ExecuteTime": {
     "end_time": "2024-05-15T09:35:32.988844Z",
     "start_time": "2024-05-15T09:35:32.964031Z"
    }
   },
   "id": "6be96dad44ac0433",
   "execution_count": 18
  },
  {
   "cell_type": "markdown",
   "source": [
    "Not only mean, you can calculate anything here like variance, standard deviation, median, percentile, quantile etc."
   ],
   "metadata": {
    "collapsed": false
   },
   "id": "999e8c3d5c0d6be8"
  },
  {
   "cell_type": "code",
   "outputs": [
    {
     "name": "stdout",
     "output_type": "stream",
     "text": [
      "Mean of Petal length = 3.7580\n",
      "Mean of Sepal length = 5.8433\n"
     ]
    }
   ],
   "source": [
    "pl: np.ndarray = iris.iloc[:, 2].values\n",
    "print(f'Mean of Petal length = {pl.mean():.4f}')\n",
    "sl: np.ndarray = iris.iloc[:, 0].values\n",
    "print(f'Mean of Sepal length = {sl.mean():.4f}')"
   ],
   "metadata": {
    "collapsed": false,
    "ExecuteTime": {
     "end_time": "2024-05-15T09:39:52.593581Z",
     "start_time": "2024-05-15T09:39:52.576753Z"
    }
   },
   "id": "ad971839ef910a2",
   "execution_count": 27
  },
  {
   "cell_type": "code",
   "outputs": [
    {
     "name": "stdout",
     "output_type": "stream",
     "text": [
      "Mean and Standard Deviation of iris data set = [5.8433 3.0573 3.758  1.1993] and [0.8253 0.4344 1.7594 0.7597]\n",
      "[[-5.86856386 -4.7359148  -1.56757623 -0.26238682]]\n"
     ]
    }
   ],
   "source": [
    "X = iris.iloc[:, :-1].values\n",
    "scaler = StandardScaler().fit(X)\n",
    "print(f'Mean and Standard Deviation of iris data set = {scaler.mean_.round(4)} and {scaler.scale_.round(4)}')\n",
    "scaler_transform = scaler.transform(X)\n",
    "\n",
    "# If I want to fit some new data in the above transform.\n",
    "data = [[1, 1, 1, 1]]                          # --> It will calculate the standard values of this data using mean and variance of above data. eg (1 - 1.1993)/0.7597 = -0.262386.\n",
    "data_transformed = scaler.transform(data)\n",
    "print(data_transformed)"
   ],
   "metadata": {
    "collapsed": false,
    "ExecuteTime": {
     "end_time": "2024-05-15T11:28:24.879222Z",
     "start_time": "2024-05-15T11:28:24.862845Z"
    }
   },
   "id": "5f7be776a548d403",
   "execution_count": 98
  },
  {
   "cell_type": "markdown",
   "source": [
    "Using fit_transform directly. "
   ],
   "metadata": {
    "collapsed": false
   },
   "id": "18d6a63775b49fb2"
  },
  {
   "cell_type": "code",
   "outputs": [
    {
     "name": "stdout",
     "output_type": "stream",
     "text": [
      "Yes\n"
     ]
    }
   ],
   "source": [
    "X = iris.iloc[:, :-1].values\n",
    "scaler = StandardScaler().fit_transform(X)\n",
    "if scaler_transform.all() == scaler.all():\n",
    "    print(f'Yes')\n",
    "else: print('No')"
   ],
   "metadata": {
    "collapsed": false,
    "ExecuteTime": {
     "end_time": "2024-05-15T11:28:27.674516Z",
     "start_time": "2024-05-15T11:28:27.667990Z"
    }
   },
   "id": "94b2ce2f1ee3562a",
   "execution_count": 99
  },
  {
   "cell_type": "markdown",
   "source": [
    "Covariance: --> If the data is standardized then multiplication of the matrix and it's transpose will be the covariance or the similarity matrix. \n",
    "\n",
    "Covariance matrix can be biased and Unbiased estimator. Numpy by default uses unbiased estimator. "
   ],
   "metadata": {
    "collapsed": false
   },
   "id": "be27013c991e6faf"
  },
  {
   "cell_type": "code",
   "outputs": [
    {
     "name": "stdout",
     "output_type": "stream",
     "text": [
      "[[ 1.00671141 -0.11835884  0.87760447  0.82343066]\n",
      " [-0.11835884  1.00671141 -0.43131554 -0.36858315]\n",
      " [ 0.87760447 -0.43131554  1.00671141  0.96932762]\n",
      " [ 0.82343066 -0.36858315  0.96932762  1.00671141]]\n",
      "[[ 1.00671141 -0.11835884  0.87760447  0.82343066]\n",
      " [-0.11835884  1.00671141 -0.43131554 -0.36858315]\n",
      " [ 0.87760447 -0.43131554  1.00671141  0.96932762]\n",
      " [ 0.82343066 -0.36858315  0.96932762  1.00671141]]\n"
     ]
    }
   ],
   "source": [
    "X = iris.iloc[:, :-1].values\n",
    "scaler = StandardScaler().fit_transform(X)\n",
    "\n",
    "X_cov = np.matmul(scaler.T,scaler)/(scaler.shape[0] - 1) \n",
    "print(X_cov)\n",
    "print(np.cov(scaler.T))                           "
   ],
   "metadata": {
    "collapsed": false,
    "ExecuteTime": {
     "end_time": "2024-05-15T11:31:15.438089Z",
     "start_time": "2024-05-15T11:31:15.424949Z"
    }
   },
   "id": "59e2a01a8cb17dc7",
   "execution_count": 105
  }
 ],
 "metadata": {
  "kernelspec": {
   "display_name": "Python 3",
   "language": "python",
   "name": "python3"
  },
  "language_info": {
   "codemirror_mode": {
    "name": "ipython",
    "version": 2
   },
   "file_extension": ".py",
   "mimetype": "text/x-python",
   "name": "python",
   "nbconvert_exporter": "python",
   "pygments_lexer": "ipython2",
   "version": "2.7.6"
  }
 },
 "nbformat": 4,
 "nbformat_minor": 5
}
