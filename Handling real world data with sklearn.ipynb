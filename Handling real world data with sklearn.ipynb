{
 "cells": [
  {
   "cell_type": "code",
   "execution_count": 2,
   "id": "initial_id",
   "metadata": {
    "collapsed": true,
    "ExecuteTime": {
     "end_time": "2024-06-19T07:31:34.060738Z",
     "start_time": "2024-06-19T07:31:34.052522Z"
    }
   },
   "outputs": [],
   "source": [
    "import pandas as pd"
   ]
  },
  {
   "cell_type": "code",
   "outputs": [
    {
     "name": "stdout",
     "output_type": "stream",
     "text": [
      "  card  reports       age  income     share  expenditure owner selfemp  \\\n",
      "0  yes        0  37.66667  4.5200  0.033270   124.983300   yes      no   \n",
      "1  yes        0  33.25000  2.4200  0.005217     9.854167    no      no   \n",
      "2  yes        0  33.66667  4.5000  0.004156    15.000000   yes      no   \n",
      "3  yes        0  30.50000  2.5400  0.065214   137.869200    no      no   \n",
      "4  yes        0  32.16667  9.7867  0.067051   546.503300   yes      no   \n",
      "\n",
      "   dependents  months  majorcards  active  \n",
      "0           3      54           1      12  \n",
      "1           3      34           1      13  \n",
      "2           4      58           1       5  \n",
      "3           0      25           1       7  \n",
      "4           2      64           1       5  \n"
     ]
    }
   ],
   "source": [
    "data = pd.read_csv(\"../../Downloads/Data for ML/AER_credit_card_data.csv\")\n",
    "print(data.head())"
   ],
   "metadata": {
    "collapsed": false,
    "ExecuteTime": {
     "end_time": "2024-06-19T07:33:12.366470Z",
     "start_time": "2024-06-19T07:33:12.351381Z"
    }
   },
   "id": "cdaa670dbe7f8334",
   "execution_count": 4
  },
  {
   "cell_type": "markdown",
   "source": [
    "Imbalanced dataset. "
   ],
   "metadata": {
    "collapsed": false
   },
   "id": "19ee71224cbec14b"
  },
  {
   "cell_type": "code",
   "outputs": [
    {
     "name": "stdout",
     "output_type": "stream",
     "text": [
      "card\n",
      "yes     1023\n",
      "no       296\n",
      "Name: count, dtype: int64\n"
     ]
    }
   ],
   "source": [
    "print(data.value_counts(['card']))"
   ],
   "metadata": {
    "collapsed": false,
    "ExecuteTime": {
     "end_time": "2024-06-19T07:41:04.124813Z",
     "start_time": "2024-06-19T07:41:04.107770Z"
    }
   },
   "id": "daccc3d7a440112a",
   "execution_count": 7
  },
  {
   "cell_type": "markdown",
   "source": [
    "Under-sampling dataset. "
   ],
   "metadata": {
    "collapsed": false
   },
   "id": "41003466447815e5"
  },
  {
   "cell_type": "code",
   "outputs": [
    {
     "name": "stdout",
     "output_type": "stream",
     "text": [
      "(592, 12)\n"
     ]
    }
   ],
   "source": [
    "yes_data = data.groupby('card').get_group('yes')\n",
    "no_data = data.groupby('card').get_group('no')\n",
    "dataset = pd.concat([yes_data.sample(n=296, replace=False), no_data], axis=0)\n",
    "print(dataset.shape)"
   ],
   "metadata": {
    "collapsed": false,
    "ExecuteTime": {
     "end_time": "2024-06-19T08:22:48.302245Z",
     "start_time": "2024-06-19T08:22:48.291064Z"
    }
   },
   "id": "5fc673912bc1de83",
   "execution_count": 23
  },
  {
   "cell_type": "markdown",
   "source": [
    "We can also use other library to do that. "
   ],
   "metadata": {
    "collapsed": false
   },
   "id": "9fb15627131acb54"
  },
  {
   "cell_type": "code",
   "outputs": [],
   "source": [
    "from imblearn.under_sampling import RandomUnderSampler\n"
   ],
   "metadata": {
    "collapsed": false,
    "ExecuteTime": {
     "end_time": "2024-06-19T09:05:07.695743Z",
     "start_time": "2024-06-19T09:05:06.831943Z"
    }
   },
   "id": "60e5a48ef76f616e",
   "execution_count": 26
  },
  {
   "cell_type": "markdown",
   "source": [
    "Oversampling dataset. "
   ],
   "metadata": {
    "collapsed": false
   },
   "id": "2c52a4b115361348"
  },
  {
   "cell_type": "code",
   "outputs": [],
   "source": [],
   "metadata": {
    "collapsed": false,
    "ExecuteTime": {
     "end_time": "2024-06-19T08:56:07.112174Z",
     "start_time": "2024-06-19T08:56:07.106843Z"
    }
   },
   "id": "24cd823d428cef3d",
   "execution_count": 24
  }
 ],
 "metadata": {
  "kernelspec": {
   "display_name": "Python 3",
   "language": "python",
   "name": "python3"
  },
  "language_info": {
   "codemirror_mode": {
    "name": "ipython",
    "version": 2
   },
   "file_extension": ".py",
   "mimetype": "text/x-python",
   "name": "python",
   "nbconvert_exporter": "python",
   "pygments_lexer": "ipython2",
   "version": "2.7.6"
  }
 },
 "nbformat": 4,
 "nbformat_minor": 5
}
