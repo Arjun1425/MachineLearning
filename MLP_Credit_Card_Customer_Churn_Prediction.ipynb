{
 "cells": [
  {
   "cell_type": "code",
   "execution_count": 1,
   "id": "initial_id",
   "metadata": {
    "collapsed": true,
    "ExecuteTime": {
     "end_time": "2024-07-19T16:14:36.963064Z",
     "start_time": "2024-07-19T16:14:34.310671Z"
    }
   },
   "outputs": [],
   "source": [
    "import numpy as np\n",
    "import pandas as pd\n"
   ]
  },
  {
   "cell_type": "code",
   "outputs": [
    {
     "data": {
      "text/plain": "   RowNumber  CustomerId   Surname  CreditScore Geography  Gender  Age  \\\n0          1    15634602  Hargrave          619    France  Female   42   \n1          2    15647311      Hill          608     Spain  Female   41   \n2          3    15619304      Onio          502    France  Female   42   \n3          4    15701354      Boni          699    France  Female   39   \n4          5    15737888  Mitchell          850     Spain  Female   43   \n\n   Tenure    Balance  NumOfProducts  HasCrCard  IsActiveMember  \\\n0       2       0.00              1          1               1   \n1       1   83807.86              1          0               1   \n2       8  159660.80              3          1               0   \n3       1       0.00              2          0               0   \n4       2  125510.82              1          1               1   \n\n   EstimatedSalary  Exited  \n0        101348.88       1  \n1        112542.58       0  \n2        113931.57       1  \n3         93826.63       0  \n4         79084.10       0  ",
      "text/html": "<div>\n<style scoped>\n    .dataframe tbody tr th:only-of-type {\n        vertical-align: middle;\n    }\n\n    .dataframe tbody tr th {\n        vertical-align: top;\n    }\n\n    .dataframe thead th {\n        text-align: right;\n    }\n</style>\n<table border=\"1\" class=\"dataframe\">\n  <thead>\n    <tr style=\"text-align: right;\">\n      <th></th>\n      <th>RowNumber</th>\n      <th>CustomerId</th>\n      <th>Surname</th>\n      <th>CreditScore</th>\n      <th>Geography</th>\n      <th>Gender</th>\n      <th>Age</th>\n      <th>Tenure</th>\n      <th>Balance</th>\n      <th>NumOfProducts</th>\n      <th>HasCrCard</th>\n      <th>IsActiveMember</th>\n      <th>EstimatedSalary</th>\n      <th>Exited</th>\n    </tr>\n  </thead>\n  <tbody>\n    <tr>\n      <th>0</th>\n      <td>1</td>\n      <td>15634602</td>\n      <td>Hargrave</td>\n      <td>619</td>\n      <td>France</td>\n      <td>Female</td>\n      <td>42</td>\n      <td>2</td>\n      <td>0.00</td>\n      <td>1</td>\n      <td>1</td>\n      <td>1</td>\n      <td>101348.88</td>\n      <td>1</td>\n    </tr>\n    <tr>\n      <th>1</th>\n      <td>2</td>\n      <td>15647311</td>\n      <td>Hill</td>\n      <td>608</td>\n      <td>Spain</td>\n      <td>Female</td>\n      <td>41</td>\n      <td>1</td>\n      <td>83807.86</td>\n      <td>1</td>\n      <td>0</td>\n      <td>1</td>\n      <td>112542.58</td>\n      <td>0</td>\n    </tr>\n    <tr>\n      <th>2</th>\n      <td>3</td>\n      <td>15619304</td>\n      <td>Onio</td>\n      <td>502</td>\n      <td>France</td>\n      <td>Female</td>\n      <td>42</td>\n      <td>8</td>\n      <td>159660.80</td>\n      <td>3</td>\n      <td>1</td>\n      <td>0</td>\n      <td>113931.57</td>\n      <td>1</td>\n    </tr>\n    <tr>\n      <th>3</th>\n      <td>4</td>\n      <td>15701354</td>\n      <td>Boni</td>\n      <td>699</td>\n      <td>France</td>\n      <td>Female</td>\n      <td>39</td>\n      <td>1</td>\n      <td>0.00</td>\n      <td>2</td>\n      <td>0</td>\n      <td>0</td>\n      <td>93826.63</td>\n      <td>0</td>\n    </tr>\n    <tr>\n      <th>4</th>\n      <td>5</td>\n      <td>15737888</td>\n      <td>Mitchell</td>\n      <td>850</td>\n      <td>Spain</td>\n      <td>Female</td>\n      <td>43</td>\n      <td>2</td>\n      <td>125510.82</td>\n      <td>1</td>\n      <td>1</td>\n      <td>1</td>\n      <td>79084.10</td>\n      <td>0</td>\n    </tr>\n  </tbody>\n</table>\n</div>"
     },
     "execution_count": 31,
     "metadata": {},
     "output_type": "execute_result"
    }
   ],
   "source": [
    "df = pd.read_csv(\"../../Downloads/Data for ML/Churn_Modelling.csv\")\n",
    "df.head()"
   ],
   "metadata": {
    "collapsed": false,
    "ExecuteTime": {
     "end_time": "2024-07-19T17:02:35.576248Z",
     "start_time": "2024-07-19T17:02:35.519778Z"
    }
   },
   "id": "dd8cc0c4635a08a4",
   "execution_count": 31
  },
  {
   "cell_type": "markdown",
   "source": [
    "Let's check if there is any missing values in the column. "
   ],
   "metadata": {
    "collapsed": false
   },
   "id": "74ddc4d9730d115d"
  },
  {
   "cell_type": "code",
   "outputs": [
    {
     "name": "stdout",
     "output_type": "stream",
     "text": [
      "<class 'pandas.core.frame.DataFrame'>\n",
      "RangeIndex: 10000 entries, 0 to 9999\n",
      "Data columns (total 14 columns):\n",
      " #   Column           Non-Null Count  Dtype  \n",
      "---  ------           --------------  -----  \n",
      " 0   RowNumber        10000 non-null  int64  \n",
      " 1   CustomerId       10000 non-null  int64  \n",
      " 2   Surname          10000 non-null  object \n",
      " 3   CreditScore      10000 non-null  int64  \n",
      " 4   Geography        10000 non-null  object \n",
      " 5   Gender           10000 non-null  object \n",
      " 6   Age              10000 non-null  int64  \n",
      " 7   Tenure           10000 non-null  int64  \n",
      " 8   Balance          10000 non-null  float64\n",
      " 9   NumOfProducts    10000 non-null  int64  \n",
      " 10  HasCrCard        10000 non-null  int64  \n",
      " 11  IsActiveMember   10000 non-null  int64  \n",
      " 12  EstimatedSalary  10000 non-null  float64\n",
      " 13  Exited           10000 non-null  int64  \n",
      "dtypes: float64(2), int64(9), object(3)\n",
      "memory usage: 1.1+ MB\n"
     ]
    }
   ],
   "source": [
    "df.info()"
   ],
   "metadata": {
    "collapsed": false,
    "ExecuteTime": {
     "end_time": "2024-07-19T16:26:43.918976Z",
     "start_time": "2024-07-19T16:26:43.903391Z"
    }
   },
   "id": "6b37ffddd178a659",
   "execution_count": 9
  },
  {
   "cell_type": "markdown",
   "source": [
    "Let's see the statistical analysis of numerical features."
   ],
   "metadata": {
    "collapsed": false
   },
   "id": "e7ddec9047e1dbd9"
  },
  {
   "cell_type": "code",
   "outputs": [
    {
     "data": {
      "text/plain": "         RowNumber    CustomerId   CreditScore           Age        Tenure  \\\ncount  10000.00000  1.000000e+04  10000.000000  10000.000000  10000.000000   \nmean    5000.50000  1.569094e+07    650.528800     38.921800      5.012800   \nstd     2886.89568  7.193619e+04     96.653299     10.487806      2.892174   \nmin        1.00000  1.556570e+07    350.000000     18.000000      0.000000   \n25%     2500.75000  1.562853e+07    584.000000     32.000000      3.000000   \n50%     5000.50000  1.569074e+07    652.000000     37.000000      5.000000   \n75%     7500.25000  1.575323e+07    718.000000     44.000000      7.000000   \nmax    10000.00000  1.581569e+07    850.000000     92.000000     10.000000   \n\n             Balance  NumOfProducts    HasCrCard  IsActiveMember  \\\ncount   10000.000000   10000.000000  10000.00000    10000.000000   \nmean    76485.889288       1.530200      0.70550        0.515100   \nstd     62397.405202       0.581654      0.45584        0.499797   \nmin         0.000000       1.000000      0.00000        0.000000   \n25%         0.000000       1.000000      0.00000        0.000000   \n50%     97198.540000       1.000000      1.00000        1.000000   \n75%    127644.240000       2.000000      1.00000        1.000000   \nmax    250898.090000       4.000000      1.00000        1.000000   \n\n       EstimatedSalary        Exited  \ncount     10000.000000  10000.000000  \nmean     100090.239881      0.203700  \nstd       57510.492818      0.402769  \nmin          11.580000      0.000000  \n25%       51002.110000      0.000000  \n50%      100193.915000      0.000000  \n75%      149388.247500      0.000000  \nmax      199992.480000      1.000000  ",
      "text/html": "<div>\n<style scoped>\n    .dataframe tbody tr th:only-of-type {\n        vertical-align: middle;\n    }\n\n    .dataframe tbody tr th {\n        vertical-align: top;\n    }\n\n    .dataframe thead th {\n        text-align: right;\n    }\n</style>\n<table border=\"1\" class=\"dataframe\">\n  <thead>\n    <tr style=\"text-align: right;\">\n      <th></th>\n      <th>RowNumber</th>\n      <th>CustomerId</th>\n      <th>CreditScore</th>\n      <th>Age</th>\n      <th>Tenure</th>\n      <th>Balance</th>\n      <th>NumOfProducts</th>\n      <th>HasCrCard</th>\n      <th>IsActiveMember</th>\n      <th>EstimatedSalary</th>\n      <th>Exited</th>\n    </tr>\n  </thead>\n  <tbody>\n    <tr>\n      <th>count</th>\n      <td>10000.00000</td>\n      <td>1.000000e+04</td>\n      <td>10000.000000</td>\n      <td>10000.000000</td>\n      <td>10000.000000</td>\n      <td>10000.000000</td>\n      <td>10000.000000</td>\n      <td>10000.00000</td>\n      <td>10000.000000</td>\n      <td>10000.000000</td>\n      <td>10000.000000</td>\n    </tr>\n    <tr>\n      <th>mean</th>\n      <td>5000.50000</td>\n      <td>1.569094e+07</td>\n      <td>650.528800</td>\n      <td>38.921800</td>\n      <td>5.012800</td>\n      <td>76485.889288</td>\n      <td>1.530200</td>\n      <td>0.70550</td>\n      <td>0.515100</td>\n      <td>100090.239881</td>\n      <td>0.203700</td>\n    </tr>\n    <tr>\n      <th>std</th>\n      <td>2886.89568</td>\n      <td>7.193619e+04</td>\n      <td>96.653299</td>\n      <td>10.487806</td>\n      <td>2.892174</td>\n      <td>62397.405202</td>\n      <td>0.581654</td>\n      <td>0.45584</td>\n      <td>0.499797</td>\n      <td>57510.492818</td>\n      <td>0.402769</td>\n    </tr>\n    <tr>\n      <th>min</th>\n      <td>1.00000</td>\n      <td>1.556570e+07</td>\n      <td>350.000000</td>\n      <td>18.000000</td>\n      <td>0.000000</td>\n      <td>0.000000</td>\n      <td>1.000000</td>\n      <td>0.00000</td>\n      <td>0.000000</td>\n      <td>11.580000</td>\n      <td>0.000000</td>\n    </tr>\n    <tr>\n      <th>25%</th>\n      <td>2500.75000</td>\n      <td>1.562853e+07</td>\n      <td>584.000000</td>\n      <td>32.000000</td>\n      <td>3.000000</td>\n      <td>0.000000</td>\n      <td>1.000000</td>\n      <td>0.00000</td>\n      <td>0.000000</td>\n      <td>51002.110000</td>\n      <td>0.000000</td>\n    </tr>\n    <tr>\n      <th>50%</th>\n      <td>5000.50000</td>\n      <td>1.569074e+07</td>\n      <td>652.000000</td>\n      <td>37.000000</td>\n      <td>5.000000</td>\n      <td>97198.540000</td>\n      <td>1.000000</td>\n      <td>1.00000</td>\n      <td>1.000000</td>\n      <td>100193.915000</td>\n      <td>0.000000</td>\n    </tr>\n    <tr>\n      <th>75%</th>\n      <td>7500.25000</td>\n      <td>1.575323e+07</td>\n      <td>718.000000</td>\n      <td>44.000000</td>\n      <td>7.000000</td>\n      <td>127644.240000</td>\n      <td>2.000000</td>\n      <td>1.00000</td>\n      <td>1.000000</td>\n      <td>149388.247500</td>\n      <td>0.000000</td>\n    </tr>\n    <tr>\n      <th>max</th>\n      <td>10000.00000</td>\n      <td>1.581569e+07</td>\n      <td>850.000000</td>\n      <td>92.000000</td>\n      <td>10.000000</td>\n      <td>250898.090000</td>\n      <td>4.000000</td>\n      <td>1.00000</td>\n      <td>1.000000</td>\n      <td>199992.480000</td>\n      <td>1.000000</td>\n    </tr>\n  </tbody>\n</table>\n</div>"
     },
     "execution_count": 10,
     "metadata": {},
     "output_type": "execute_result"
    }
   ],
   "source": [
    "df.describe()"
   ],
   "metadata": {
    "collapsed": false,
    "ExecuteTime": {
     "end_time": "2024-07-19T16:27:32.360073Z",
     "start_time": "2024-07-19T16:27:32.327952Z"
    }
   },
   "id": "6f9cb12ab263f036",
   "execution_count": 10
  },
  {
   "cell_type": "markdown",
   "source": [
    "Check for the duplication. "
   ],
   "metadata": {
    "collapsed": false
   },
   "id": "346467a8795d67c3"
  },
  {
   "cell_type": "code",
   "outputs": [
    {
     "data": {
      "text/plain": "0"
     },
     "execution_count": 14,
     "metadata": {},
     "output_type": "execute_result"
    }
   ],
   "source": [
    "df.duplicated().sum()"
   ],
   "metadata": {
    "collapsed": false,
    "ExecuteTime": {
     "end_time": "2024-07-19T16:29:57.672996Z",
     "start_time": "2024-07-19T16:29:57.646257Z"
    }
   },
   "id": "1619a6b9d20c4abb",
   "execution_count": 14
  },
  {
   "cell_type": "markdown",
   "source": [
    "Let's see if the dataset is balanced or imbalanced. "
   ],
   "metadata": {
    "collapsed": false
   },
   "id": "cf91d9a4490cac0a"
  },
  {
   "cell_type": "code",
   "outputs": [
    {
     "data": {
      "text/plain": "Exited\n0    7963\n1    2037\nName: count, dtype: int64"
     },
     "execution_count": 23,
     "metadata": {},
     "output_type": "execute_result"
    }
   ],
   "source": [
    "df['Exited'].value_counts()"
   ],
   "metadata": {
    "collapsed": false,
    "ExecuteTime": {
     "end_time": "2024-07-19T16:36:29.153069Z",
     "start_time": "2024-07-19T16:36:29.127862Z"
    }
   },
   "id": "bfc3fb3201193d7e",
   "execution_count": 23
  },
  {
   "cell_type": "markdown",
   "source": [
    "This is an imbalanced dataset. \n",
    "Now let's see if the categorical features are balanced or not.  "
   ],
   "metadata": {
    "collapsed": false
   },
   "id": "65ef6bfe05e838c6"
  },
  {
   "cell_type": "code",
   "outputs": [
    {
     "data": {
      "text/plain": "Geography\nFrance     5014\nGermany    2509\nSpain      2477\nName: count, dtype: int64"
     },
     "execution_count": 16,
     "metadata": {},
     "output_type": "execute_result"
    }
   ],
   "source": [
    "df['Geography'].value_counts()"
   ],
   "metadata": {
    "collapsed": false,
    "ExecuteTime": {
     "end_time": "2024-07-19T16:34:18.296228Z",
     "start_time": "2024-07-19T16:34:18.282673Z"
    }
   },
   "id": "c799d94e31e25f79",
   "execution_count": 16
  },
  {
   "cell_type": "code",
   "outputs": [
    {
     "data": {
      "text/plain": "Gender\nMale      5457\nFemale    4543\nName: count, dtype: int64"
     },
     "execution_count": 17,
     "metadata": {},
     "output_type": "execute_result"
    }
   ],
   "source": [
    "df[\"Gender\"].value_counts()"
   ],
   "metadata": {
    "collapsed": false,
    "ExecuteTime": {
     "end_time": "2024-07-19T16:34:48.290391Z",
     "start_time": "2024-07-19T16:34:48.276049Z"
    }
   },
   "id": "44ba98b830503d25",
   "execution_count": 17
  },
  {
   "cell_type": "markdown",
   "source": [
    "Here, we just want to see the use of keras. So, we are not considering the problem arising because of imbalanced dataset.  "
   ],
   "metadata": {
    "collapsed": false
   },
   "id": "5bdf18ecfd68cd47"
  },
  {
   "cell_type": "markdown",
   "source": [
    "Let's drop the features which are not useful. "
   ],
   "metadata": {
    "collapsed": false
   },
   "id": "75db0f4a4e54f1c9"
  },
  {
   "cell_type": "code",
   "outputs": [
    {
     "data": {
      "text/plain": "   CreditScore Geography  Gender  Age  Tenure    Balance  NumOfProducts  \\\n0          619    France  Female   42       2       0.00              1   \n1          608     Spain  Female   41       1   83807.86              1   \n2          502    France  Female   42       8  159660.80              3   \n3          699    France  Female   39       1       0.00              2   \n4          850     Spain  Female   43       2  125510.82              1   \n\n   HasCrCard  IsActiveMember  EstimatedSalary  Exited  \n0          1               1        101348.88       1  \n1          0               1        112542.58       0  \n2          1               0        113931.57       1  \n3          0               0         93826.63       0  \n4          1               1         79084.10       0  ",
      "text/html": "<div>\n<style scoped>\n    .dataframe tbody tr th:only-of-type {\n        vertical-align: middle;\n    }\n\n    .dataframe tbody tr th {\n        vertical-align: top;\n    }\n\n    .dataframe thead th {\n        text-align: right;\n    }\n</style>\n<table border=\"1\" class=\"dataframe\">\n  <thead>\n    <tr style=\"text-align: right;\">\n      <th></th>\n      <th>CreditScore</th>\n      <th>Geography</th>\n      <th>Gender</th>\n      <th>Age</th>\n      <th>Tenure</th>\n      <th>Balance</th>\n      <th>NumOfProducts</th>\n      <th>HasCrCard</th>\n      <th>IsActiveMember</th>\n      <th>EstimatedSalary</th>\n      <th>Exited</th>\n    </tr>\n  </thead>\n  <tbody>\n    <tr>\n      <th>0</th>\n      <td>619</td>\n      <td>France</td>\n      <td>Female</td>\n      <td>42</td>\n      <td>2</td>\n      <td>0.00</td>\n      <td>1</td>\n      <td>1</td>\n      <td>1</td>\n      <td>101348.88</td>\n      <td>1</td>\n    </tr>\n    <tr>\n      <th>1</th>\n      <td>608</td>\n      <td>Spain</td>\n      <td>Female</td>\n      <td>41</td>\n      <td>1</td>\n      <td>83807.86</td>\n      <td>1</td>\n      <td>0</td>\n      <td>1</td>\n      <td>112542.58</td>\n      <td>0</td>\n    </tr>\n    <tr>\n      <th>2</th>\n      <td>502</td>\n      <td>France</td>\n      <td>Female</td>\n      <td>42</td>\n      <td>8</td>\n      <td>159660.80</td>\n      <td>3</td>\n      <td>1</td>\n      <td>0</td>\n      <td>113931.57</td>\n      <td>1</td>\n    </tr>\n    <tr>\n      <th>3</th>\n      <td>699</td>\n      <td>France</td>\n      <td>Female</td>\n      <td>39</td>\n      <td>1</td>\n      <td>0.00</td>\n      <td>2</td>\n      <td>0</td>\n      <td>0</td>\n      <td>93826.63</td>\n      <td>0</td>\n    </tr>\n    <tr>\n      <th>4</th>\n      <td>850</td>\n      <td>Spain</td>\n      <td>Female</td>\n      <td>43</td>\n      <td>2</td>\n      <td>125510.82</td>\n      <td>1</td>\n      <td>1</td>\n      <td>1</td>\n      <td>79084.10</td>\n      <td>0</td>\n    </tr>\n  </tbody>\n</table>\n</div>"
     },
     "execution_count": 32,
     "metadata": {},
     "output_type": "execute_result"
    }
   ],
   "source": [
    "df.drop(columns=['RowNumber', 'Surname', 'CustomerId'], inplace=True)\n",
    "df.head()"
   ],
   "metadata": {
    "collapsed": false,
    "ExecuteTime": {
     "end_time": "2024-07-19T17:02:43.579347Z",
     "start_time": "2024-07-19T17:02:43.548811Z"
    }
   },
   "id": "edf4aa657bf2398f",
   "execution_count": 32
  },
  {
   "cell_type": "markdown",
   "source": [
    "Here, we should perform EDA and eliminate the features which are not necessary. But our goal is to use Keras and train a NN. So, we are not performing EDA.\n",
    "Now let's transform the categorical features into numerical features. --> Using one hot encoding. (Using pandas)"
   ],
   "metadata": {
    "collapsed": false
   },
   "id": "cdbd39232c955000"
  },
  {
   "cell_type": "code",
   "outputs": [
    {
     "data": {
      "text/plain": "   CreditScore  Age  Tenure    Balance  NumOfProducts  HasCrCard  \\\n0          619   42       2       0.00              1          1   \n1          608   41       1   83807.86              1          0   \n2          502   42       8  159660.80              3          1   \n3          699   39       1       0.00              2          0   \n4          850   43       2  125510.82              1          1   \n\n   IsActiveMember  EstimatedSalary  Exited  Geography_Germany  \\\n0               1        101348.88       1                0.0   \n1               1        112542.58       0                0.0   \n2               0        113931.57       1                0.0   \n3               0         93826.63       0                0.0   \n4               1         79084.10       0                0.0   \n\n   Geography_Spain  Gender_Male  \n0              0.0          0.0  \n1              1.0          0.0  \n2              0.0          0.0  \n3              0.0          0.0  \n4              1.0          0.0  ",
      "text/html": "<div>\n<style scoped>\n    .dataframe tbody tr th:only-of-type {\n        vertical-align: middle;\n    }\n\n    .dataframe tbody tr th {\n        vertical-align: top;\n    }\n\n    .dataframe thead th {\n        text-align: right;\n    }\n</style>\n<table border=\"1\" class=\"dataframe\">\n  <thead>\n    <tr style=\"text-align: right;\">\n      <th></th>\n      <th>CreditScore</th>\n      <th>Age</th>\n      <th>Tenure</th>\n      <th>Balance</th>\n      <th>NumOfProducts</th>\n      <th>HasCrCard</th>\n      <th>IsActiveMember</th>\n      <th>EstimatedSalary</th>\n      <th>Exited</th>\n      <th>Geography_Germany</th>\n      <th>Geography_Spain</th>\n      <th>Gender_Male</th>\n    </tr>\n  </thead>\n  <tbody>\n    <tr>\n      <th>0</th>\n      <td>619</td>\n      <td>42</td>\n      <td>2</td>\n      <td>0.00</td>\n      <td>1</td>\n      <td>1</td>\n      <td>1</td>\n      <td>101348.88</td>\n      <td>1</td>\n      <td>0.0</td>\n      <td>0.0</td>\n      <td>0.0</td>\n    </tr>\n    <tr>\n      <th>1</th>\n      <td>608</td>\n      <td>41</td>\n      <td>1</td>\n      <td>83807.86</td>\n      <td>1</td>\n      <td>0</td>\n      <td>1</td>\n      <td>112542.58</td>\n      <td>0</td>\n      <td>0.0</td>\n      <td>1.0</td>\n      <td>0.0</td>\n    </tr>\n    <tr>\n      <th>2</th>\n      <td>502</td>\n      <td>42</td>\n      <td>8</td>\n      <td>159660.80</td>\n      <td>3</td>\n      <td>1</td>\n      <td>0</td>\n      <td>113931.57</td>\n      <td>1</td>\n      <td>0.0</td>\n      <td>0.0</td>\n      <td>0.0</td>\n    </tr>\n    <tr>\n      <th>3</th>\n      <td>699</td>\n      <td>39</td>\n      <td>1</td>\n      <td>0.00</td>\n      <td>2</td>\n      <td>0</td>\n      <td>0</td>\n      <td>93826.63</td>\n      <td>0</td>\n      <td>0.0</td>\n      <td>0.0</td>\n      <td>0.0</td>\n    </tr>\n    <tr>\n      <th>4</th>\n      <td>850</td>\n      <td>43</td>\n      <td>2</td>\n      <td>125510.82</td>\n      <td>1</td>\n      <td>1</td>\n      <td>1</td>\n      <td>79084.10</td>\n      <td>0</td>\n      <td>0.0</td>\n      <td>1.0</td>\n      <td>0.0</td>\n    </tr>\n  </tbody>\n</table>\n</div>"
     },
     "execution_count": 33,
     "metadata": {},
     "output_type": "execute_result"
    }
   ],
   "source": [
    "df = pd.get_dummies(df, columns=['Geography', 'Gender'], drop_first=True, dtype=float)\n",
    "df.head()"
   ],
   "metadata": {
    "collapsed": false,
    "ExecuteTime": {
     "end_time": "2024-07-19T17:02:47.784384Z",
     "start_time": "2024-07-19T17:02:47.754713Z"
    }
   },
   "id": "139de18a1fa16b5",
   "execution_count": 33
  },
  {
   "cell_type": "markdown",
   "source": [
    "The value of some features are too big it can slow down the convergence of weights of NN. So, we need to scale them.  "
   ],
   "metadata": {
    "collapsed": false
   },
   "id": "d6deba1b3d766710"
  },
  {
   "cell_type": "code",
   "outputs": [
    {
     "name": "stdout",
     "output_type": "stream",
     "text": [
      "(8000, 11)\n",
      "(2000, 11)\n"
     ]
    }
   ],
   "source": [
    "X = df.drop(columns=['Exited'])\n",
    "Y = df['Exited']\n",
    "\n",
    "from sklearn.model_selection import train_test_split\n",
    "X_train, X_test, Y_train, Y_test = train_test_split(X, Y, test_size=0.2, random_state=10)\n",
    "print(X_train.shape)\n",
    "print(X_test.shape)"
   ],
   "metadata": {
    "collapsed": false,
    "ExecuteTime": {
     "end_time": "2024-07-19T17:24:27.764005Z",
     "start_time": "2024-07-19T17:24:25.084469Z"
    }
   },
   "id": "60dbeefedabc081b",
   "execution_count": 37
  },
  {
   "cell_type": "code",
   "outputs": [
    {
     "name": "stdout",
     "output_type": "stream",
     "text": [
      "[[ 1.78974378  0.94394225  1.04271518 ...  1.73436329 -0.57388614\n",
      "   0.91255717]\n",
      " [ 0.26040483  2.35932486 -0.35053238 ... -0.57658047  1.74250594\n",
      "  -1.09582175]\n",
      " [-0.22526362 -0.47144036  0.3460914  ... -0.57658047  1.74250594\n",
      "   0.91255717]\n",
      " ...\n",
      " [-1.97160337  0.09471269  0.3460914  ...  1.73436329 -0.57388614\n",
      "  -1.09582175]\n",
      " [ 0.60140608 -0.47144036 -1.04715616 ... -0.57658047 -0.57388614\n",
      "  -1.09582175]\n",
      " [ 0.21907135  0.09471269  1.73933896 ...  1.73436329 -0.57388614\n",
      "   0.91255717]]\n"
     ]
    }
   ],
   "source": [
    "from sklearn.preprocessing import StandardScaler\n",
    "sc = StandardScaler()\n",
    "X_train_sc = sc.fit_transform(X_train)\n",
    "X_test_sc = sc.transform(X_test)\n",
    "print(X_train_sc)"
   ],
   "metadata": {
    "collapsed": false,
    "ExecuteTime": {
     "end_time": "2024-07-19T17:56:25.378342Z",
     "start_time": "2024-07-19T17:56:25.342719Z"
    }
   },
   "id": "96c99525af5b30e3",
   "execution_count": 39
  },
  {
   "cell_type": "markdown",
   "source": [
    "Using tensorflow. "
   ],
   "metadata": {
    "collapsed": false
   },
   "id": "b4e1f4b55276c6f2"
  },
  {
   "cell_type": "code",
   "outputs": [
    {
     "name": "stderr",
     "output_type": "stream",
     "text": [
      "/Users/fnuarjun/PycharmProjects/ML/.venv/lib/python3.9/site-packages/urllib3/__init__.py:35: NotOpenSSLWarning: urllib3 v2 only supports OpenSSL 1.1.1+, currently the 'ssl' module is compiled with 'LibreSSL 2.8.3'. See: https://github.com/urllib3/urllib3/issues/3020\n",
      "  warnings.warn(\n"
     ]
    }
   ],
   "source": [
    "import tensorflow\n",
    "from tensorflow import keras\n",
    "from tensorflow.keras import Sequential\n",
    "from tensorflow.keras.layers import Dense"
   ],
   "metadata": {
    "collapsed": false,
    "ExecuteTime": {
     "end_time": "2024-07-19T17:59:59.159899Z",
     "start_time": "2024-07-19T17:59:45.850323Z"
    }
   },
   "id": "5f31985055dd59b3",
   "execution_count": 40
  },
  {
   "cell_type": "markdown",
   "source": [
    "Here we are using sequential model.\n",
    "Architecture of NN:\n",
    "--> 3 perceptron into one hidden layer. -> Using \"sigmoid\" activation function.  \n",
    "--> 1 output layer. "
   ],
   "metadata": {
    "collapsed": false
   },
   "id": "626a894c0b15b1bc"
  },
  {
   "cell_type": "code",
   "outputs": [],
   "source": [
    "model = Sequential()\n",
    "\n",
    "model.add(Dense(3, input_dim=11, activation='sigmoid')) # hidden layer\n",
    "model.add(Dense(1, activation='sigmoid'))"
   ],
   "metadata": {
    "collapsed": false,
    "ExecuteTime": {
     "end_time": "2024-07-19T18:07:14.924265Z",
     "start_time": "2024-07-19T18:07:14.771734Z"
    }
   },
   "id": "60da065f55fd6aa0",
   "execution_count": 41
  },
  {
   "cell_type": "markdown",
   "source": [
    "Let see the number of parameters and summary of the model."
   ],
   "metadata": {
    "collapsed": false
   },
   "id": "3afc3c12a30b7e6d"
  },
  {
   "cell_type": "code",
   "outputs": [
    {
     "name": "stdout",
     "output_type": "stream",
     "text": [
      "Model: \"sequential\"\n",
      "_________________________________________________________________\n",
      " Layer (type)                Output Shape              Param #   \n",
      "=================================================================\n",
      " dense (Dense)               (None, 3)                 36        \n",
      "                                                                 \n",
      " dense_1 (Dense)             (None, 1)                 4         \n",
      "                                                                 \n",
      "=================================================================\n",
      "Total params: 40 (160.00 Byte)\n",
      "Trainable params: 40 (160.00 Byte)\n",
      "Non-trainable params: 0 (0.00 Byte)\n",
      "_________________________________________________________________\n"
     ]
    }
   ],
   "source": [
    "model.summary()"
   ],
   "metadata": {
    "collapsed": false,
    "ExecuteTime": {
     "end_time": "2024-07-19T18:08:53.178767Z",
     "start_time": "2024-07-19T18:08:53.149272Z"
    }
   },
   "id": "59bd1c1492de16ea",
   "execution_count": 42
  },
  {
   "cell_type": "markdown",
   "source": [
    "We want to compile our model using:\n",
    "--> Loss function: Binary cross entropy\n",
    "--> Optimizer: Adam"
   ],
   "metadata": {
    "collapsed": false
   },
   "id": "c3ff11f30b084cf0"
  },
  {
   "cell_type": "code",
   "outputs": [],
   "source": [
    "model.compile(loss='binary_crossentropy', optimizer='adam')"
   ],
   "metadata": {
    "collapsed": false,
    "ExecuteTime": {
     "end_time": "2024-07-19T18:17:00.158760Z",
     "start_time": "2024-07-19T18:17:00.151718Z"
    }
   },
   "id": "3c24fc3f930fb6ba",
   "execution_count": 45
  },
  {
   "cell_type": "markdown",
   "source": [
    "Now, let's fit our training data to the model. --> Training the model"
   ],
   "metadata": {
    "collapsed": false
   },
   "id": "794fb1afceae22a7"
  },
  {
   "cell_type": "code",
   "outputs": [
    {
     "name": "stdout",
     "output_type": "stream",
     "text": [
      "Epoch 1/10\n",
      "250/250 [==============================] - 0s 368us/step - loss: 0.6700\n",
      "Epoch 2/10\n",
      "250/250 [==============================] - 0s 353us/step - loss: 0.5461\n",
      "Epoch 3/10\n",
      "250/250 [==============================] - 0s 362us/step - loss: 0.4947\n",
      "Epoch 4/10\n",
      "250/250 [==============================] - 0s 399us/step - loss: 0.4719\n",
      "Epoch 5/10\n",
      "250/250 [==============================] - 0s 380us/step - loss: 0.4596\n",
      "Epoch 6/10\n",
      "250/250 [==============================] - 0s 349us/step - loss: 0.4512\n",
      "Epoch 7/10\n",
      "250/250 [==============================] - 0s 349us/step - loss: 0.4446\n",
      "Epoch 8/10\n",
      "250/250 [==============================] - 0s 353us/step - loss: 0.4391\n",
      "Epoch 9/10\n",
      "250/250 [==============================] - 0s 653us/step - loss: 0.4346\n",
      "Epoch 10/10\n",
      "250/250 [==============================] - 0s 587us/step - loss: 0.4309\n"
     ]
    },
    {
     "data": {
      "text/plain": "<keras.src.callbacks.History at 0x3019a84c0>"
     },
     "execution_count": 46,
     "metadata": {},
     "output_type": "execute_result"
    }
   ],
   "source": [
    "model.fit(X_train_sc, Y_train, epochs=10)"
   ],
   "metadata": {
    "collapsed": false,
    "ExecuteTime": {
     "end_time": "2024-07-19T18:19:06.547502Z",
     "start_time": "2024-07-19T18:19:05.134113Z"
    }
   },
   "id": "982ae5073157856b",
   "execution_count": 46
  },
  {
   "cell_type": "markdown",
   "source": [
    "The weights and biases for the first layer. "
   ],
   "metadata": {
    "collapsed": false
   },
   "id": "7c512a8bc9b1bc01"
  },
  {
   "cell_type": "code",
   "outputs": [
    {
     "data": {
      "text/plain": "[array([[-0.11651448, -0.40221637, -0.01908217],\n        [ 0.8602861 ,  0.7049433 , -1.1198798 ],\n        [ 0.048922  ,  0.3433859 ,  0.09883408],\n        [ 0.86967874,  0.2398837 , -0.06991245],\n        [ 0.18579638, -0.88316137,  0.06132692],\n        [-0.16512227,  0.14099121,  0.08413534],\n        [-0.6981469 , -0.19058901,  0.8307913 ],\n        [ 0.13097702,  0.08085202, -0.10598651],\n        [ 0.18833661,  0.11817122, -0.7885356 ],\n        [-0.49537206, -0.32847008, -0.0953021 ],\n        [-0.22503601, -0.4501199 ,  0.43888867]], dtype=float32),\n array([-0.42235166, -0.4728838 ,  0.6714657 ], dtype=float32)]"
     },
     "execution_count": 47,
     "metadata": {},
     "output_type": "execute_result"
    }
   ],
   "source": [
    "model.layers[0].get_weights()   # Total 33 weights and 3 biases in the first layer."
   ],
   "metadata": {
    "collapsed": false,
    "ExecuteTime": {
     "end_time": "2024-07-19T18:21:12.900593Z",
     "start_time": "2024-07-19T18:21:12.865843Z"
    }
   },
   "id": "c4c2b098a1e9eaac",
   "execution_count": 47
  },
  {
   "cell_type": "markdown",
   "source": [
    "Now we want to predict the output of test data set. \n",
    "--> Here we will get the probability values because we are using the sigmoid function. \n",
    "--> We can set the threshold by plotting ROC and AOC curve. But here let assume we are using 0.5 as a threshold."
   ],
   "metadata": {
    "collapsed": false
   },
   "id": "c5bb98efcb08233b"
  },
  {
   "cell_type": "code",
   "outputs": [
    {
     "name": "stdout",
     "output_type": "stream",
     "text": [
      "63/63 [==============================] - 0s 302us/step\n"
     ]
    },
    {
     "data": {
      "text/plain": "array([[0.38284758],\n       [0.2564657 ],\n       [0.3523803 ],\n       ...,\n       [0.15379709],\n       [0.3624041 ],\n       [0.1050334 ]], dtype=float32)"
     },
     "execution_count": 48,
     "metadata": {},
     "output_type": "execute_result"
    }
   ],
   "source": [
    "model.predict(X_test_sc)"
   ],
   "metadata": {
    "collapsed": false,
    "ExecuteTime": {
     "end_time": "2024-07-19T18:27:23.672646Z",
     "start_time": "2024-07-19T18:27:23.472030Z"
    }
   },
   "id": "bb9a7686020c6b82",
   "execution_count": 48
  },
  {
   "cell_type": "code",
   "outputs": [
    {
     "name": "stdout",
     "output_type": "stream",
     "text": [
      "63/63 [==============================] - 0s 296us/step\n",
      "[[0]\n",
      " [0]\n",
      " [0]\n",
      " ...\n",
      " [0]\n",
      " [0]\n",
      " [0]]\n"
     ]
    }
   ],
   "source": [
    "y_log = model.predict(X_test_sc)\n",
    "\n",
    "y_pred = np.where(y_log > 0.5, 1, 0)\n",
    "print(y_pred)"
   ],
   "metadata": {
    "collapsed": false,
    "ExecuteTime": {
     "end_time": "2024-07-19T18:29:20.651308Z",
     "start_time": "2024-07-19T18:29:20.541075Z"
    }
   },
   "id": "71671a4ea889aa54",
   "execution_count": 49
  },
  {
   "cell_type": "markdown",
   "source": [
    "Now the accuracy of the model. "
   ],
   "metadata": {
    "collapsed": false
   },
   "id": "e69143f07528e850"
  },
  {
   "cell_type": "code",
   "outputs": [
    {
     "name": "stdout",
     "output_type": "stream",
     "text": [
      "0.797\n"
     ]
    }
   ],
   "source": [
    "from sklearn.metrics import accuracy_score\n",
    "accuracy = accuracy_score(Y_test, y_pred)\n",
    "print(accuracy)"
   ],
   "metadata": {
    "collapsed": false,
    "ExecuteTime": {
     "end_time": "2024-07-19T18:30:53.563696Z",
     "start_time": "2024-07-19T18:30:53.549893Z"
    }
   },
   "id": "3cacb4417a95e4b9",
   "execution_count": 50
  },
  {
   "cell_type": "markdown",
   "source": [
    "Now it's time to improve the model. \n",
    "--> Change the activation function from sigmoid to ReLu.\n",
    "--> Increase the number of nodes in the hidden layer. \n",
    "--> Increase the number of hidden layers. (W/O over-fitting)\n",
    "--> Increase the number of epochs.\n",
    "\n",
    "Other things you want in the code:\n",
    "--> In each epoch I want to see the accuracy on validation data. --> Here we are using the validation_split which will split our training data and calculate the accuracy on the validation data.\n",
    "--> If the training accuracy is only increasing and the validation accuracy is not increasing than that's the case of over-fitting.  \n",
    "--> I also want to plot the graph between the test_loss and validation_loss. "
   ],
   "metadata": {
    "collapsed": false
   },
   "id": "f2852188c5f9bc18"
  },
  {
   "cell_type": "code",
   "outputs": [],
   "source": [
    "def model_predict(nodes_1: int, nodes_2: int, nodes_3:int, function: str, epoch:int) -> tuple[float, dict[float]]:\n",
    "    model1 = Sequential()\n",
    "    model1.add(Dense(nodes_1, input_dim=11, activation=function))\n",
    "    model1.add(Dense(nodes_2, activation=function))\n",
    "    model1.add(Dense(nodes_3, activation='sigmoid'))\n",
    "    model1.compile(loss='binary_crossentropy', optimizer='adam', metrics=['accuracy'])\n",
    "    history = model1.fit(X_train_sc, Y_train, epochs=epoch, validation_split=0.2)\n",
    "    y_log1 = model1.predict(X_test_sc)\n",
    "    y_pred1 = np.where(y_log1 > 0.5, 1, 0)\n",
    "    accuracy1 = accuracy_score(Y_test, y_pred1)*100\n",
    "    return f\"Accuracy = {accuracy1:.2f}%\", history"
   ],
   "metadata": {
    "collapsed": false,
    "ExecuteTime": {
     "end_time": "2024-07-19T19:16:33.676031Z",
     "start_time": "2024-07-19T19:16:33.653045Z"
    }
   },
   "id": "d8ad261608cc5354",
   "execution_count": 61
  },
  {
   "cell_type": "code",
   "outputs": [
    {
     "name": "stdout",
     "output_type": "stream",
     "text": [
      "Epoch 1/100\n",
      "200/200 [==============================] - 0s 883us/step - loss: 0.5547 - accuracy: 0.7530 - val_loss: 0.4752 - val_accuracy: 0.8131\n",
      "Epoch 2/100\n",
      "200/200 [==============================] - 0s 532us/step - loss: 0.4581 - accuracy: 0.7994 - val_loss: 0.4333 - val_accuracy: 0.8112\n",
      "Epoch 3/100\n",
      "200/200 [==============================] - 0s 550us/step - loss: 0.4316 - accuracy: 0.8087 - val_loss: 0.4176 - val_accuracy: 0.8131\n",
      "Epoch 4/100\n",
      "200/200 [==============================] - 0s 533us/step - loss: 0.4181 - accuracy: 0.8166 - val_loss: 0.4082 - val_accuracy: 0.8119\n",
      "Epoch 5/100\n",
      "200/200 [==============================] - 0s 522us/step - loss: 0.4072 - accuracy: 0.8223 - val_loss: 0.3996 - val_accuracy: 0.8156\n",
      "Epoch 6/100\n",
      "200/200 [==============================] - 0s 523us/step - loss: 0.3960 - accuracy: 0.8313 - val_loss: 0.3888 - val_accuracy: 0.8263\n",
      "Epoch 7/100\n",
      "200/200 [==============================] - 0s 529us/step - loss: 0.3840 - accuracy: 0.8386 - val_loss: 0.3796 - val_accuracy: 0.8256\n",
      "Epoch 8/100\n",
      "200/200 [==============================] - 0s 566us/step - loss: 0.3732 - accuracy: 0.8438 - val_loss: 0.3726 - val_accuracy: 0.8325\n",
      "Epoch 9/100\n",
      "200/200 [==============================] - 0s 544us/step - loss: 0.3647 - accuracy: 0.8473 - val_loss: 0.3657 - val_accuracy: 0.8413\n",
      "Epoch 10/100\n",
      "200/200 [==============================] - 0s 529us/step - loss: 0.3573 - accuracy: 0.8525 - val_loss: 0.3602 - val_accuracy: 0.8450\n",
      "Epoch 11/100\n",
      "200/200 [==============================] - 0s 546us/step - loss: 0.3525 - accuracy: 0.8517 - val_loss: 0.3558 - val_accuracy: 0.8462\n",
      "Epoch 12/100\n",
      "200/200 [==============================] - 0s 548us/step - loss: 0.3491 - accuracy: 0.8553 - val_loss: 0.3519 - val_accuracy: 0.8506\n",
      "Epoch 13/100\n",
      "200/200 [==============================] - 0s 525us/step - loss: 0.3457 - accuracy: 0.8562 - val_loss: 0.3515 - val_accuracy: 0.8525\n",
      "Epoch 14/100\n",
      "200/200 [==============================] - 0s 527us/step - loss: 0.3446 - accuracy: 0.8572 - val_loss: 0.3500 - val_accuracy: 0.8544\n",
      "Epoch 15/100\n",
      "200/200 [==============================] - 0s 521us/step - loss: 0.3425 - accuracy: 0.8553 - val_loss: 0.3479 - val_accuracy: 0.8537\n",
      "Epoch 16/100\n",
      "200/200 [==============================] - 0s 517us/step - loss: 0.3410 - accuracy: 0.8586 - val_loss: 0.3471 - val_accuracy: 0.8550\n",
      "Epoch 17/100\n",
      "200/200 [==============================] - 0s 530us/step - loss: 0.3394 - accuracy: 0.8595 - val_loss: 0.3453 - val_accuracy: 0.8600\n",
      "Epoch 18/100\n",
      "200/200 [==============================] - 0s 523us/step - loss: 0.3385 - accuracy: 0.8608 - val_loss: 0.3453 - val_accuracy: 0.8569\n",
      "Epoch 19/100\n",
      "200/200 [==============================] - 0s 517us/step - loss: 0.3378 - accuracy: 0.8600 - val_loss: 0.3451 - val_accuracy: 0.8569\n",
      "Epoch 20/100\n",
      "200/200 [==============================] - 0s 535us/step - loss: 0.3361 - accuracy: 0.8617 - val_loss: 0.3430 - val_accuracy: 0.8631\n",
      "Epoch 21/100\n",
      "200/200 [==============================] - 0s 527us/step - loss: 0.3352 - accuracy: 0.8609 - val_loss: 0.3426 - val_accuracy: 0.8637\n",
      "Epoch 22/100\n",
      "200/200 [==============================] - 0s 529us/step - loss: 0.3342 - accuracy: 0.8612 - val_loss: 0.3420 - val_accuracy: 0.8606\n",
      "Epoch 23/100\n",
      "200/200 [==============================] - 0s 518us/step - loss: 0.3330 - accuracy: 0.8631 - val_loss: 0.3413 - val_accuracy: 0.8625\n",
      "Epoch 24/100\n",
      "200/200 [==============================] - 0s 517us/step - loss: 0.3328 - accuracy: 0.8592 - val_loss: 0.3391 - val_accuracy: 0.8637\n",
      "Epoch 25/100\n",
      "200/200 [==============================] - 0s 514us/step - loss: 0.3317 - accuracy: 0.8620 - val_loss: 0.3403 - val_accuracy: 0.8600\n",
      "Epoch 26/100\n",
      "200/200 [==============================] - 0s 522us/step - loss: 0.3309 - accuracy: 0.8612 - val_loss: 0.3384 - val_accuracy: 0.8650\n",
      "Epoch 27/100\n",
      "200/200 [==============================] - 0s 529us/step - loss: 0.3304 - accuracy: 0.8642 - val_loss: 0.3385 - val_accuracy: 0.8644\n",
      "Epoch 28/100\n",
      "200/200 [==============================] - 0s 522us/step - loss: 0.3294 - accuracy: 0.8633 - val_loss: 0.3368 - val_accuracy: 0.8694\n",
      "Epoch 29/100\n",
      "200/200 [==============================] - 0s 517us/step - loss: 0.3284 - accuracy: 0.8631 - val_loss: 0.3412 - val_accuracy: 0.8625\n",
      "Epoch 30/100\n",
      "200/200 [==============================] - 0s 520us/step - loss: 0.3283 - accuracy: 0.8633 - val_loss: 0.3417 - val_accuracy: 0.8669\n",
      "Epoch 31/100\n",
      "200/200 [==============================] - 0s 528us/step - loss: 0.3283 - accuracy: 0.8602 - val_loss: 0.3379 - val_accuracy: 0.8662\n",
      "Epoch 32/100\n",
      "200/200 [==============================] - 0s 522us/step - loss: 0.3272 - accuracy: 0.8622 - val_loss: 0.3389 - val_accuracy: 0.8694\n",
      "Epoch 33/100\n",
      "200/200 [==============================] - 0s 516us/step - loss: 0.3271 - accuracy: 0.8605 - val_loss: 0.3359 - val_accuracy: 0.8669\n",
      "Epoch 34/100\n",
      "200/200 [==============================] - 0s 517us/step - loss: 0.3270 - accuracy: 0.8620 - val_loss: 0.3356 - val_accuracy: 0.8700\n",
      "Epoch 35/100\n",
      "200/200 [==============================] - 0s 521us/step - loss: 0.3261 - accuracy: 0.8634 - val_loss: 0.3384 - val_accuracy: 0.8681\n",
      "Epoch 36/100\n",
      "200/200 [==============================] - 0s 526us/step - loss: 0.3257 - accuracy: 0.8620 - val_loss: 0.3373 - val_accuracy: 0.8675\n",
      "Epoch 37/100\n",
      "200/200 [==============================] - 0s 530us/step - loss: 0.3257 - accuracy: 0.8609 - val_loss: 0.3357 - val_accuracy: 0.8675\n",
      "Epoch 38/100\n",
      "200/200 [==============================] - 0s 524us/step - loss: 0.3256 - accuracy: 0.8623 - val_loss: 0.3351 - val_accuracy: 0.8712\n",
      "Epoch 39/100\n",
      "200/200 [==============================] - 0s 519us/step - loss: 0.3240 - accuracy: 0.8634 - val_loss: 0.3350 - val_accuracy: 0.8725\n",
      "Epoch 40/100\n",
      "200/200 [==============================] - 0s 519us/step - loss: 0.3243 - accuracy: 0.8634 - val_loss: 0.3344 - val_accuracy: 0.8681\n",
      "Epoch 41/100\n",
      "200/200 [==============================] - 0s 529us/step - loss: 0.3246 - accuracy: 0.8633 - val_loss: 0.3362 - val_accuracy: 0.8669\n",
      "Epoch 42/100\n",
      "200/200 [==============================] - 0s 518us/step - loss: 0.3238 - accuracy: 0.8614 - val_loss: 0.3337 - val_accuracy: 0.8675\n",
      "Epoch 43/100\n",
      "200/200 [==============================] - 0s 516us/step - loss: 0.3241 - accuracy: 0.8628 - val_loss: 0.3353 - val_accuracy: 0.8712\n",
      "Epoch 44/100\n",
      "200/200 [==============================] - 0s 519us/step - loss: 0.3238 - accuracy: 0.8620 - val_loss: 0.3338 - val_accuracy: 0.8694\n",
      "Epoch 45/100\n",
      "200/200 [==============================] - 0s 517us/step - loss: 0.3238 - accuracy: 0.8627 - val_loss: 0.3331 - val_accuracy: 0.8725\n",
      "Epoch 46/100\n",
      "200/200 [==============================] - 0s 530us/step - loss: 0.3230 - accuracy: 0.8633 - val_loss: 0.3363 - val_accuracy: 0.8669\n",
      "Epoch 47/100\n",
      "200/200 [==============================] - 0s 529us/step - loss: 0.3229 - accuracy: 0.8645 - val_loss: 0.3346 - val_accuracy: 0.8694\n",
      "Epoch 48/100\n",
      "200/200 [==============================] - 0s 546us/step - loss: 0.3227 - accuracy: 0.8634 - val_loss: 0.3360 - val_accuracy: 0.8694\n",
      "Epoch 49/100\n",
      "200/200 [==============================] - 0s 529us/step - loss: 0.3226 - accuracy: 0.8647 - val_loss: 0.3354 - val_accuracy: 0.8694\n",
      "Epoch 50/100\n",
      "200/200 [==============================] - 0s 535us/step - loss: 0.3221 - accuracy: 0.8623 - val_loss: 0.3348 - val_accuracy: 0.8687\n",
      "Epoch 51/100\n",
      "200/200 [==============================] - 0s 528us/step - loss: 0.3219 - accuracy: 0.8623 - val_loss: 0.3339 - val_accuracy: 0.8687\n",
      "Epoch 52/100\n",
      "200/200 [==============================] - 0s 513us/step - loss: 0.3216 - accuracy: 0.8637 - val_loss: 0.3344 - val_accuracy: 0.8700\n",
      "Epoch 53/100\n",
      "200/200 [==============================] - 0s 520us/step - loss: 0.3215 - accuracy: 0.8648 - val_loss: 0.3328 - val_accuracy: 0.8731\n",
      "Epoch 54/100\n",
      "200/200 [==============================] - 0s 525us/step - loss: 0.3210 - accuracy: 0.8642 - val_loss: 0.3347 - val_accuracy: 0.8694\n",
      "Epoch 55/100\n",
      "200/200 [==============================] - 0s 541us/step - loss: 0.3207 - accuracy: 0.8633 - val_loss: 0.3340 - val_accuracy: 0.8706\n",
      "Epoch 56/100\n",
      "200/200 [==============================] - 0s 532us/step - loss: 0.3204 - accuracy: 0.8636 - val_loss: 0.3330 - val_accuracy: 0.8694\n",
      "Epoch 57/100\n",
      "200/200 [==============================] - 0s 528us/step - loss: 0.3205 - accuracy: 0.8633 - val_loss: 0.3342 - val_accuracy: 0.8712\n",
      "Epoch 58/100\n",
      "200/200 [==============================] - 0s 533us/step - loss: 0.3203 - accuracy: 0.8644 - val_loss: 0.3346 - val_accuracy: 0.8675\n",
      "Epoch 59/100\n",
      "200/200 [==============================] - 0s 531us/step - loss: 0.3203 - accuracy: 0.8655 - val_loss: 0.3350 - val_accuracy: 0.8719\n",
      "Epoch 60/100\n",
      "200/200 [==============================] - 0s 546us/step - loss: 0.3198 - accuracy: 0.8656 - val_loss: 0.3367 - val_accuracy: 0.8694\n",
      "Epoch 61/100\n",
      "200/200 [==============================] - 0s 551us/step - loss: 0.3193 - accuracy: 0.8653 - val_loss: 0.3387 - val_accuracy: 0.8662\n",
      "Epoch 62/100\n",
      "200/200 [==============================] - 0s 536us/step - loss: 0.3196 - accuracy: 0.8664 - val_loss: 0.3352 - val_accuracy: 0.8681\n",
      "Epoch 63/100\n",
      "200/200 [==============================] - 0s 518us/step - loss: 0.3190 - accuracy: 0.8666 - val_loss: 0.3360 - val_accuracy: 0.8700\n",
      "Epoch 64/100\n",
      "200/200 [==============================] - 0s 528us/step - loss: 0.3186 - accuracy: 0.8661 - val_loss: 0.3352 - val_accuracy: 0.8687\n",
      "Epoch 65/100\n",
      "200/200 [==============================] - 0s 544us/step - loss: 0.3188 - accuracy: 0.8648 - val_loss: 0.3356 - val_accuracy: 0.8712\n",
      "Epoch 66/100\n",
      "200/200 [==============================] - 0s 526us/step - loss: 0.3183 - accuracy: 0.8667 - val_loss: 0.3377 - val_accuracy: 0.8681\n",
      "Epoch 67/100\n",
      "200/200 [==============================] - 0s 529us/step - loss: 0.3180 - accuracy: 0.8659 - val_loss: 0.3360 - val_accuracy: 0.8700\n",
      "Epoch 68/100\n",
      "200/200 [==============================] - 0s 533us/step - loss: 0.3173 - accuracy: 0.8667 - val_loss: 0.3346 - val_accuracy: 0.8681\n",
      "Epoch 69/100\n",
      "200/200 [==============================] - 0s 536us/step - loss: 0.3181 - accuracy: 0.8687 - val_loss: 0.3343 - val_accuracy: 0.8687\n",
      "Epoch 70/100\n",
      "200/200 [==============================] - 0s 545us/step - loss: 0.3172 - accuracy: 0.8667 - val_loss: 0.3361 - val_accuracy: 0.8694\n",
      "Epoch 71/100\n",
      "200/200 [==============================] - 0s 790us/step - loss: 0.3171 - accuracy: 0.8677 - val_loss: 0.3349 - val_accuracy: 0.8719\n",
      "Epoch 72/100\n",
      "200/200 [==============================] - 0s 536us/step - loss: 0.3166 - accuracy: 0.8673 - val_loss: 0.3376 - val_accuracy: 0.8675\n",
      "Epoch 73/100\n",
      "200/200 [==============================] - 0s 547us/step - loss: 0.3171 - accuracy: 0.8672 - val_loss: 0.3374 - val_accuracy: 0.8731\n",
      "Epoch 74/100\n",
      "200/200 [==============================] - 0s 538us/step - loss: 0.3167 - accuracy: 0.8673 - val_loss: 0.3347 - val_accuracy: 0.8725\n",
      "Epoch 75/100\n",
      "200/200 [==============================] - 0s 534us/step - loss: 0.3169 - accuracy: 0.8666 - val_loss: 0.3359 - val_accuracy: 0.8700\n",
      "Epoch 76/100\n",
      "200/200 [==============================] - 0s 529us/step - loss: 0.3166 - accuracy: 0.8667 - val_loss: 0.3352 - val_accuracy: 0.8712\n",
      "Epoch 77/100\n",
      "200/200 [==============================] - 0s 731us/step - loss: 0.3167 - accuracy: 0.8683 - val_loss: 0.3362 - val_accuracy: 0.8700\n",
      "Epoch 78/100\n",
      "200/200 [==============================] - 0s 543us/step - loss: 0.3164 - accuracy: 0.8675 - val_loss: 0.3349 - val_accuracy: 0.8725\n",
      "Epoch 79/100\n",
      "200/200 [==============================] - 0s 531us/step - loss: 0.3163 - accuracy: 0.8672 - val_loss: 0.3340 - val_accuracy: 0.8725\n",
      "Epoch 80/100\n",
      "200/200 [==============================] - 0s 527us/step - loss: 0.3160 - accuracy: 0.8673 - val_loss: 0.3365 - val_accuracy: 0.8687\n",
      "Epoch 81/100\n",
      "200/200 [==============================] - 0s 522us/step - loss: 0.3158 - accuracy: 0.8670 - val_loss: 0.3378 - val_accuracy: 0.8687\n",
      "Epoch 82/100\n",
      "200/200 [==============================] - 0s 530us/step - loss: 0.3164 - accuracy: 0.8673 - val_loss: 0.3357 - val_accuracy: 0.8700\n",
      "Epoch 83/100\n",
      "200/200 [==============================] - 0s 538us/step - loss: 0.3153 - accuracy: 0.8681 - val_loss: 0.3352 - val_accuracy: 0.8681\n",
      "Epoch 84/100\n",
      "200/200 [==============================] - 0s 526us/step - loss: 0.3154 - accuracy: 0.8680 - val_loss: 0.3359 - val_accuracy: 0.8675\n",
      "Epoch 85/100\n",
      "200/200 [==============================] - 0s 522us/step - loss: 0.3156 - accuracy: 0.8656 - val_loss: 0.3362 - val_accuracy: 0.8669\n",
      "Epoch 86/100\n",
      "200/200 [==============================] - 0s 522us/step - loss: 0.3143 - accuracy: 0.8669 - val_loss: 0.3360 - val_accuracy: 0.8687\n",
      "Epoch 87/100\n",
      "200/200 [==============================] - 0s 537us/step - loss: 0.3144 - accuracy: 0.8681 - val_loss: 0.3356 - val_accuracy: 0.8700\n",
      "Epoch 88/100\n",
      "200/200 [==============================] - 0s 529us/step - loss: 0.3145 - accuracy: 0.8675 - val_loss: 0.3370 - val_accuracy: 0.8700\n",
      "Epoch 89/100\n",
      "200/200 [==============================] - 0s 520us/step - loss: 0.3148 - accuracy: 0.8678 - val_loss: 0.3348 - val_accuracy: 0.8719\n",
      "Epoch 90/100\n",
      "200/200 [==============================] - 0s 520us/step - loss: 0.3140 - accuracy: 0.8677 - val_loss: 0.3377 - val_accuracy: 0.8669\n",
      "Epoch 91/100\n",
      "200/200 [==============================] - 0s 518us/step - loss: 0.3141 - accuracy: 0.8672 - val_loss: 0.3360 - val_accuracy: 0.8712\n",
      "Epoch 92/100\n",
      "200/200 [==============================] - 0s 532us/step - loss: 0.3140 - accuracy: 0.8662 - val_loss: 0.3357 - val_accuracy: 0.8719\n",
      "Epoch 93/100\n",
      "200/200 [==============================] - 0s 519us/step - loss: 0.3136 - accuracy: 0.8656 - val_loss: 0.3358 - val_accuracy: 0.8700\n",
      "Epoch 94/100\n",
      "200/200 [==============================] - 0s 524us/step - loss: 0.3140 - accuracy: 0.8669 - val_loss: 0.3363 - val_accuracy: 0.8706\n",
      "Epoch 95/100\n",
      "200/200 [==============================] - 0s 530us/step - loss: 0.3137 - accuracy: 0.8683 - val_loss: 0.3343 - val_accuracy: 0.8725\n",
      "Epoch 96/100\n",
      "200/200 [==============================] - 0s 532us/step - loss: 0.3134 - accuracy: 0.8675 - val_loss: 0.3367 - val_accuracy: 0.8706\n",
      "Epoch 97/100\n",
      "200/200 [==============================] - 0s 536us/step - loss: 0.3130 - accuracy: 0.8672 - val_loss: 0.3370 - val_accuracy: 0.8731\n",
      "Epoch 98/100\n",
      "200/200 [==============================] - 0s 523us/step - loss: 0.3126 - accuracy: 0.8673 - val_loss: 0.3364 - val_accuracy: 0.8719\n",
      "Epoch 99/100\n",
      "200/200 [==============================] - 0s 530us/step - loss: 0.3123 - accuracy: 0.8691 - val_loss: 0.3371 - val_accuracy: 0.8719\n",
      "Epoch 100/100\n",
      "200/200 [==============================] - 0s 529us/step - loss: 0.3136 - accuracy: 0.8684 - val_loss: 0.3361 - val_accuracy: 0.8687\n",
      "63/63 [==============================] - 0s 324us/step\n"
     ]
    }
   ],
   "source": [
    "accu, hist = model_predict(11,11,1,'relu', epoch=100)"
   ],
   "metadata": {
    "collapsed": false,
    "ExecuteTime": {
     "end_time": "2024-07-19T19:16:47.479863Z",
     "start_time": "2024-07-19T19:16:36.249584Z"
    }
   },
   "id": "9d2de35497aa826",
   "execution_count": 62
  },
  {
   "cell_type": "markdown",
   "source": [
    "At last two cases you can see the over-fitting where you the loss and val_loss has increased. Also, the accuracy on training data has increased.\n",
    "--> To eliminate the over-fitting, you can use:\n",
    "--> Dropout\n",
    "-> Regularization"
   ],
   "metadata": {
    "collapsed": false
   },
   "id": "1a7a19467ee66e40"
  },
  {
   "cell_type": "code",
   "outputs": [
    {
     "name": "stdout",
     "output_type": "stream",
     "text": [
      "Accuracy = 84.85%\n"
     ]
    }
   ],
   "source": [
    "print(accu)"
   ],
   "metadata": {
    "collapsed": false,
    "ExecuteTime": {
     "end_time": "2024-07-19T19:19:18.204702Z",
     "start_time": "2024-07-19T19:19:18.181745Z"
    }
   },
   "id": "7951441893fd888d",
   "execution_count": 65
  },
  {
   "cell_type": "code",
   "outputs": [
    {
     "name": "stdout",
     "output_type": "stream",
     "text": [
      "<class 'keras.src.callbacks.History'>\n"
     ]
    },
    {
     "data": {
      "text/plain": "<Figure size 640x480 with 1 Axes>",
      "image/png": "[encoded data removed]"
     },
     "metadata": {},
     "output_type": "display_data"
    }
   ],
   "source": [
    "import matplotlib.pyplot as plt\n",
    "print(type(hist))\n",
    "\n",
    "plt.plot(hist.history['loss'], label='training loss')\n",
    "plt.plot(hist.history['val_loss'], label='validation loss')\n",
    "plt.legend()\n",
    "plt.show()"
   ],
   "metadata": {
    "collapsed": false,
    "ExecuteTime": {
     "end_time": "2024-07-19T19:17:08.915938Z",
     "start_time": "2024-07-19T19:17:08.671732Z"
    }
   },
   "id": "87c3cc9ef805890",
   "execution_count": 64
  }
 ],
 "metadata": {
  "kernelspec": {
   "display_name": "Python 3",
   "language": "python",
   "name": "python3"
  },
  "language_info": {
   "codemirror_mode": {
    "name": "ipython",
    "version": 2
   },
   "file_extension": ".py",
   "mimetype": "text/x-python",
   "name": "python",
   "nbconvert_exporter": "python",
   "pygments_lexer": "ipython2",
   "version": "2.7.6"
  }
 },
 "nbformat": 4,
 "nbformat_minor": 5
}
